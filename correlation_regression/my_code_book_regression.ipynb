{
 "cells": [
  {
   "cell_type": "code",
   "execution_count": 2,
   "id": "66f74d22",
   "metadata": {},
   "outputs": [],
   "source": [
    "import numpy as np\n",
    "import matplotlib.pyplot as plt\n",
    "import pandas as pd\n",
    "import seaborn as sns\n",
    "\n",
    "# Set seed for reproducibility\n",
    "np.random.seed(234)"
   ]
  },
  {
   "cell_type": "code",
   "execution_count": 3,
   "id": "42f687ff",
   "metadata": {},
   "outputs": [],
   "source": [
    "# Create synthetic dataset\n",
    "students = 40\n",
    "study_hours = np.random.randint(1, 10, students) # 1 to 9 hours study\n",
    "job_hours = np.random.randint(0, 15, students)  # 0 to 14 hours job\n",
    "sleep_hours = np.random.randint(4, 9, students) # 4 to 8 hours sleep\n",
    "extracurricular = np.random.randint(0, 6, students) # 0 to 5 hrs activities\n",
    "\n",
    "# Exam score: positively influenced by study & sleep negatively by job and extra curricular activities\n",
    "exam_score = (40\n",
    "              +5*study_hours #strong positive\n",
    "              +2*sleep_hours  # mild positive\n",
    "              -3*job_hours  # strong negative\n",
    "              -1*extracurricular    # mild negative\n",
    "              + np.random.randint(-5,5, students)   #noise            \n",
    "              )\n",
    "\n",
    "data = pd.DataFrame({\n",
    "    'Study Hours': study_hours,\n",
    "    'Job Hours': job_hours,\n",
    "    'Sleep Hours': sleep_hours,\n",
    "    'Extracurricular Hours': extracurricular,\n",
    "    'Exam Score': exam_score\n",
    "})"
   ]
  },
  {
   "cell_type": "code",
   "execution_count": 4,
   "id": "bb00364f",
   "metadata": {},
   "outputs": [
    {
     "data": {
      "text/html": [
       "<div>\n",
       "<style scoped>\n",
       "    .dataframe tbody tr th:only-of-type {\n",
       "        vertical-align: middle;\n",
       "    }\n",
       "\n",
       "    .dataframe tbody tr th {\n",
       "        vertical-align: top;\n",
       "    }\n",
       "\n",
       "    .dataframe thead th {\n",
       "        text-align: right;\n",
       "    }\n",
       "</style>\n",
       "<table border=\"1\" class=\"dataframe\">\n",
       "  <thead>\n",
       "    <tr style=\"text-align: right;\">\n",
       "      <th></th>\n",
       "      <th>Study Hours</th>\n",
       "      <th>Job Hours</th>\n",
       "      <th>Sleep Hours</th>\n",
       "      <th>Extracurricular Hours</th>\n",
       "      <th>Exam Score</th>\n",
       "    </tr>\n",
       "  </thead>\n",
       "  <tbody>\n",
       "    <tr>\n",
       "      <th>0</th>\n",
       "      <td>9</td>\n",
       "      <td>10</td>\n",
       "      <td>4</td>\n",
       "      <td>2</td>\n",
       "      <td>56</td>\n",
       "    </tr>\n",
       "    <tr>\n",
       "      <th>1</th>\n",
       "      <td>5</td>\n",
       "      <td>9</td>\n",
       "      <td>5</td>\n",
       "      <td>1</td>\n",
       "      <td>46</td>\n",
       "    </tr>\n",
       "    <tr>\n",
       "      <th>2</th>\n",
       "      <td>2</td>\n",
       "      <td>0</td>\n",
       "      <td>6</td>\n",
       "      <td>3</td>\n",
       "      <td>57</td>\n",
       "    </tr>\n",
       "    <tr>\n",
       "      <th>3</th>\n",
       "      <td>4</td>\n",
       "      <td>10</td>\n",
       "      <td>6</td>\n",
       "      <td>5</td>\n",
       "      <td>37</td>\n",
       "    </tr>\n",
       "    <tr>\n",
       "      <th>4</th>\n",
       "      <td>8</td>\n",
       "      <td>8</td>\n",
       "      <td>7</td>\n",
       "      <td>1</td>\n",
       "      <td>69</td>\n",
       "    </tr>\n",
       "  </tbody>\n",
       "</table>\n",
       "</div>"
      ],
      "text/plain": [
       "   Study Hours  Job Hours  Sleep Hours  Extracurricular Hours  Exam Score\n",
       "0            9         10            4                      2          56\n",
       "1            5          9            5                      1          46\n",
       "2            2          0            6                      3          57\n",
       "3            4         10            6                      5          37\n",
       "4            8          8            7                      1          69"
      ]
     },
     "execution_count": 4,
     "metadata": {},
     "output_type": "execute_result"
    }
   ],
   "source": [
    "# Print the dataset\n",
    "data.head()"
   ]
  },
  {
   "cell_type": "code",
   "execution_count": 5,
   "id": "a208fd43",
   "metadata": {},
   "outputs": [
    {
     "data": {
      "text/html": [
       "<div>\n",
       "<style scoped>\n",
       "    .dataframe tbody tr th:only-of-type {\n",
       "        vertical-align: middle;\n",
       "    }\n",
       "\n",
       "    .dataframe tbody tr th {\n",
       "        vertical-align: top;\n",
       "    }\n",
       "\n",
       "    .dataframe thead th {\n",
       "        text-align: right;\n",
       "    }\n",
       "</style>\n",
       "<table border=\"1\" class=\"dataframe\">\n",
       "  <thead>\n",
       "    <tr style=\"text-align: right;\">\n",
       "      <th></th>\n",
       "      <th>Study Hours</th>\n",
       "      <th>Job Hours</th>\n",
       "      <th>Sleep Hours</th>\n",
       "      <th>Extracurricular Hours</th>\n",
       "      <th>Exam Score</th>\n",
       "    </tr>\n",
       "  </thead>\n",
       "  <tbody>\n",
       "    <tr>\n",
       "      <th>Study Hours</th>\n",
       "      <td>1.000000</td>\n",
       "      <td>-0.136551</td>\n",
       "      <td>-0.006383</td>\n",
       "      <td>-0.114442</td>\n",
       "      <td>0.694048</td>\n",
       "    </tr>\n",
       "    <tr>\n",
       "      <th>Job Hours</th>\n",
       "      <td>-0.136551</td>\n",
       "      <td>1.000000</td>\n",
       "      <td>0.188992</td>\n",
       "      <td>0.209991</td>\n",
       "      <td>-0.782525</td>\n",
       "    </tr>\n",
       "    <tr>\n",
       "      <th>Sleep Hours</th>\n",
       "      <td>-0.006383</td>\n",
       "      <td>0.188992</td>\n",
       "      <td>1.000000</td>\n",
       "      <td>0.158029</td>\n",
       "      <td>-0.035653</td>\n",
       "    </tr>\n",
       "    <tr>\n",
       "      <th>Extracurricular Hours</th>\n",
       "      <td>-0.114442</td>\n",
       "      <td>0.209991</td>\n",
       "      <td>0.158029</td>\n",
       "      <td>1.000000</td>\n",
       "      <td>-0.276837</td>\n",
       "    </tr>\n",
       "    <tr>\n",
       "      <th>Exam Score</th>\n",
       "      <td>0.694048</td>\n",
       "      <td>-0.782525</td>\n",
       "      <td>-0.035653</td>\n",
       "      <td>-0.276837</td>\n",
       "      <td>1.000000</td>\n",
       "    </tr>\n",
       "  </tbody>\n",
       "</table>\n",
       "</div>"
      ],
      "text/plain": [
       "                       Study Hours  Job Hours  Sleep Hours  \\\n",
       "Study Hours               1.000000  -0.136551    -0.006383   \n",
       "Job Hours                -0.136551   1.000000     0.188992   \n",
       "Sleep Hours              -0.006383   0.188992     1.000000   \n",
       "Extracurricular Hours    -0.114442   0.209991     0.158029   \n",
       "Exam Score                0.694048  -0.782525    -0.035653   \n",
       "\n",
       "                       Extracurricular Hours  Exam Score  \n",
       "Study Hours                        -0.114442    0.694048  \n",
       "Job Hours                           0.209991   -0.782525  \n",
       "Sleep Hours                         0.158029   -0.035653  \n",
       "Extracurricular Hours               1.000000   -0.276837  \n",
       "Exam Score                         -0.276837    1.000000  "
      ]
     },
     "execution_count": 5,
     "metadata": {},
     "output_type": "execute_result"
    }
   ],
   "source": [
    "# Computing the correlation co-eff for each data feature\n",
    "corr_efficients = data.corr()\n",
    "corr_efficients"
   ]
  },
  {
   "cell_type": "code",
   "execution_count": 6,
   "id": "1afb1d22",
   "metadata": {},
   "outputs": [
    {
     "data": {
      "text/plain": [
       "Index(['Study Hours', 'Job Hours', 'Sleep Hours', 'Extracurricular Hours',\n",
       "       'Exam Score'],\n",
       "      dtype='object')"
      ]
     },
     "execution_count": 6,
     "metadata": {},
     "output_type": "execute_result"
    }
   ],
   "source": [
    "data.columns"
   ]
  },
  {
   "cell_type": "code",
   "execution_count": 7,
   "id": "18e285cb",
   "metadata": {},
   "outputs": [
    {
     "data": {
      "image/png": "[encoded data removed]",
      "text/plain": [
       "<Figure size 1200x500 with 2 Axes>"
      ]
     },
     "metadata": {},
     "output_type": "display_data"
    }
   ],
   "source": [
    "# Compute correlation matrix first (this defines 'corr')\n",
    "corr =data[['Study Hours', 'Job Hours', 'Exam Score']].corr()\n",
    "\n",
    "# Plot: Positive and Negative examples\n",
    "plt.figure(figsize=(12,5))\n",
    "\n",
    "# Positive correlation: Study vs Score\n",
    "plt.subplot(1,2,1)\n",
    "sns.scatterplot(x='Study Hours', y='Exam Score', data=data, color='blue')\n",
    "plt.title('Positive Correlation:\\nStudy Hours vs Exam Score', fontsize=14)\n",
    "plt.xlabel('Study Hours')\n",
    "plt.ylabel('Exam Score')\n",
    "plt.text(2, max(data['Exam Score'])-5,\n",
    "         f'r ={corr.loc['Study Hours', 'Exam Score']:.2f}',\n",
    "         fontsize=12, color='darkred',\n",
    "         bbox=dict(facecolor='white', edgecolor='red'))\n",
    "plt.grid(True, linestyle='--', alpha=0.6)\n",
    "\n",
    "\n",
    "# Negative Correlation: Job vs Exams\n",
    "plt.subplot(1,2,2)\n",
    "sns.scatterplot(x='Job Hours', y='Exam Score', data=data, color='green')\n",
    "plt.title('Negative Correlation:\\n Job Hours vs Exam Score', fontsize=14)\n",
    "plt.xlabel('Part-time Job Hours')\n",
    "plt.ylabel('Exam Score')\n",
    "plt.text(5, max(data['Exam Score'])-5,\n",
    "        f'r ={corr.loc['Job Hours', 'Exam Score']:.2f}',\n",
    "        fontsize=12, color='darkred',\n",
    "        bbox=dict(facecolor='white', edgecolor='red'))\n",
    "plt.grid(True, linestyle='--', alpha=0.6)\n",
    "\n",
    "plt.tight_layout\n",
    "plt.show()"
   ]
  },
  {
   "cell_type": "markdown",
   "id": "3fed30d0",
   "metadata": {},
   "source": [
    "### **Regression**"
   ]
  },
  {
   "cell_type": "markdown",
   "id": "87a7de5a",
   "metadata": {},
   "source": [
    "Correlation shows whether variables move together while regression explains how much and how significantly they move together.\n",
    "\n",
    "Regression analysis is a statistical method used to:\n",
    "\n",
    "1. Quantify the relationship between a dependent variable (the outcome) and one or more independent variables (the predictors).\n",
    "\n",
    "2. Predict the value of the dependent variable based on the values of the independent variables.\n",
    "\n",
    "- Mathematically, it is about finding the best-fitting line through data points.\n",
    "\n",
    "```python\n",
    "Y = β0 +  β1x + ε\n",
    "\n",
    "```\n",
    "Y is dependent (outcome) variable (e.g., exam score)\n",
    "\n",
    "X is independent (predictor) variable (e.g., study hours)\n",
    "\n",
    "β₀ is intercept (value of Y when X = 0)\n",
    "\n",
    "β₁ is slope or coefficient (how much Y changes when X increases by 1 unit) in simple terms it measure how much Y changes with X.\n",
    "\n",
    "ε is error term (random noise not explained by X)\n",
    "\n",
    "Regression doesn't just say \"studying and scores are related\" (that's correlation). It says \"each hour of studying is associated with a 5-point increase in scores\" – giving you actionable, quantified insights.\n"
   ]
  },
  {
   "cell_type": "markdown",
   "id": "99afd422",
   "metadata": {},
   "source": [
    "Lets put it in plain English\n",
    "\n",
    "If we plot students’ study hours vs exam scores:\n",
    "\n",
    "_We may see that as study hours increase, exam scores increase._\n",
    "\n",
    "- Regression fits a line through the data points that best describes this upward trend.\n",
    "\n",
    "- The slope (β₁) tells us how strong the relationship is in actual units (not just direction like correlation).\n",
    "\n",
    "- The slope says: \"For each extra hour studied, scores increase by 5 points\" (precise units)"
   ]
  },
  {
   "cell_type": "markdown",
   "id": "440d37fd",
   "metadata": {},
   "source": [
    "| Component | Name | What it means | Example |\n",
    "|-----------|------|---------------|---------|\n",
    "| **Y** | Dependent variable | The outcome you're trying to predict | Exam score |\n",
    "| **X** | Independent variable | The factor you think affects the outcome | Study hours |\n",
    "| **β₀** | Intercept | Starting value of Y when X = 0 | Your baseline score with zero study |\n",
    "| **β₁** | Slope (coefficient) | How much Y changes for each 1-unit increase in X | \"Each hour of study increases score by 5 points\" |\n",
    "| **ε** | Error term | Random variation not explained by X | Natural day-to-day fluctuations |"
   ]
  },
  {
   "cell_type": "markdown",
   "id": "2baf7643",
   "metadata": {},
   "source": [
    "**Types of Regression**\n",
    "1. Simple Linear Regression  - One independent variable\n",
    "\n",
    " - `Y = β0 ​+ β1​X + ε`\n",
    "\n",
    "2. Multiple Linear Regression - Two or more independent variables\n",
    " - `Y =β0 ​+ β1​X1 ​+ β2​X2​ + ⋯ + ε`\n"
   ]
  },
  {
   "cell_type": "markdown",
   "id": "d4c869dd",
   "metadata": {},
   "source": [
    "**OLS (Ordinary Least Squares)**"
   ]
  },
  {
   "cell_type": "markdown",
   "id": "b4091e53",
   "metadata": {},
   "source": [
    "\n",
    "\n",
    "OLS finds the best-fit line by minimizing the sum of squared errors, it is said to be The Engine Behind Regression.\n",
    "\n",
    "It is computed as;\n",
    "\n",
    "`Residual or error =(𝑌actual −𝑌predicted)**2`\n",
    "\n",
    "\n",
    "- It ensures the line we draw is the one with the smallest total deviation from all the data points."
   ]
  },
  {
   "cell_type": "markdown",
   "id": "4da0f0d7",
   "metadata": {},
   "source": [
    "**Interpreting Regression Results**"
   ]
  },
  {
   "cell_type": "markdown",
   "id": "eecb8ccf",
   "metadata": {},
   "source": [
    "| Column                  | Meaning                                                             | How to Explain                                        |\n",
    "| ----------------------- | ------------------------------------------------------------------- | ----------------------------------------------------- |\n",
    "| **Coefficient (β)**     | Average change in Y when X increases by 1 (holding others constant) | “Every extra study hour increases score by 5 points.” |\n",
    "| **Std. Error**          | How uncertain our coefficient estimate is                           | Smaller = more precise                                |\n",
    "| **t-Statistic**         | Coefficient ÷ Std. Error                                            | Large t = stronger evidence the effect is real        |\n",
    "| **p-Value**             | Probability that the effect is due to chance                        | p < 0.05 = statistically significant                  |\n",
    "| **Confidence Interval** | Range where the true coefficient likely lies                        | Narrow = more confidence                              |\n",
    "| **R-squared**           | % of variation in Y explained by Xs                                 | Closer to 1 = better model                            |\n"
   ]
  },
  {
   "cell_type": "code",
   "execution_count": 8,
   "id": "78a612a6",
   "metadata": {},
   "outputs": [],
   "source": [
    "# predictions = model.predict(X)"
   ]
  },
  {
   "cell_type": "code",
   "execution_count": 9,
   "id": "3ffc2f12",
   "metadata": {},
   "outputs": [
    {
     "data": {
      "text/html": [
       "<div>\n",
       "<style scoped>\n",
       "    .dataframe tbody tr th:only-of-type {\n",
       "        vertical-align: middle;\n",
       "    }\n",
       "\n",
       "    .dataframe tbody tr th {\n",
       "        vertical-align: top;\n",
       "    }\n",
       "\n",
       "    .dataframe thead th {\n",
       "        text-align: right;\n",
       "    }\n",
       "</style>\n",
       "<table border=\"1\" class=\"dataframe\">\n",
       "  <thead>\n",
       "    <tr style=\"text-align: right;\">\n",
       "      <th></th>\n",
       "      <th>Study Hours</th>\n",
       "      <th>Job Hours</th>\n",
       "      <th>Sleep Hours</th>\n",
       "      <th>Extracurricular Hours</th>\n",
       "      <th>Exam Score</th>\n",
       "    </tr>\n",
       "  </thead>\n",
       "  <tbody>\n",
       "    <tr>\n",
       "      <th>0</th>\n",
       "      <td>9</td>\n",
       "      <td>10</td>\n",
       "      <td>4</td>\n",
       "      <td>2</td>\n",
       "      <td>56</td>\n",
       "    </tr>\n",
       "    <tr>\n",
       "      <th>1</th>\n",
       "      <td>5</td>\n",
       "      <td>9</td>\n",
       "      <td>5</td>\n",
       "      <td>1</td>\n",
       "      <td>46</td>\n",
       "    </tr>\n",
       "    <tr>\n",
       "      <th>2</th>\n",
       "      <td>2</td>\n",
       "      <td>0</td>\n",
       "      <td>6</td>\n",
       "      <td>3</td>\n",
       "      <td>57</td>\n",
       "    </tr>\n",
       "    <tr>\n",
       "      <th>3</th>\n",
       "      <td>4</td>\n",
       "      <td>10</td>\n",
       "      <td>6</td>\n",
       "      <td>5</td>\n",
       "      <td>37</td>\n",
       "    </tr>\n",
       "    <tr>\n",
       "      <th>4</th>\n",
       "      <td>8</td>\n",
       "      <td>8</td>\n",
       "      <td>7</td>\n",
       "      <td>1</td>\n",
       "      <td>69</td>\n",
       "    </tr>\n",
       "  </tbody>\n",
       "</table>\n",
       "</div>"
      ],
      "text/plain": [
       "   Study Hours  Job Hours  Sleep Hours  Extracurricular Hours  Exam Score\n",
       "0            9         10            4                      2          56\n",
       "1            5          9            5                      1          46\n",
       "2            2          0            6                      3          57\n",
       "3            4         10            6                      5          37\n",
       "4            8          8            7                      1          69"
      ]
     },
     "execution_count": 9,
     "metadata": {},
     "output_type": "execute_result"
    }
   ],
   "source": [
    "data.head()"
   ]
  },
  {
   "cell_type": "markdown",
   "id": "1b206436",
   "metadata": {},
   "source": [
    "**Simple Linear Regression (SLR)**"
   ]
  },
  {
   "cell_type": "markdown",
   "id": "25f6c806",
   "metadata": {},
   "source": [
    "We want to see how study hours affect exam scores using Simple Linear Regression."
   ]
  },
  {
   "cell_type": "code",
   "execution_count": 10,
   "id": "e91ffad4",
   "metadata": {},
   "outputs": [
    {
     "data": {
      "text/html": [
       "<div>\n",
       "<style scoped>\n",
       "    .dataframe tbody tr th:only-of-type {\n",
       "        vertical-align: middle;\n",
       "    }\n",
       "\n",
       "    .dataframe tbody tr th {\n",
       "        vertical-align: top;\n",
       "    }\n",
       "\n",
       "    .dataframe thead th {\n",
       "        text-align: right;\n",
       "    }\n",
       "</style>\n",
       "<table border=\"1\" class=\"dataframe\">\n",
       "  <thead>\n",
       "    <tr style=\"text-align: right;\">\n",
       "      <th></th>\n",
       "      <th>Study Hours</th>\n",
       "      <th>Job Hours</th>\n",
       "      <th>Sleep Hours</th>\n",
       "      <th>Extracurricular Hours</th>\n",
       "      <th>Exam Score</th>\n",
       "    </tr>\n",
       "  </thead>\n",
       "  <tbody>\n",
       "    <tr>\n",
       "      <th>0</th>\n",
       "      <td>9</td>\n",
       "      <td>10</td>\n",
       "      <td>4</td>\n",
       "      <td>2</td>\n",
       "      <td>56</td>\n",
       "    </tr>\n",
       "    <tr>\n",
       "      <th>1</th>\n",
       "      <td>5</td>\n",
       "      <td>9</td>\n",
       "      <td>5</td>\n",
       "      <td>1</td>\n",
       "      <td>46</td>\n",
       "    </tr>\n",
       "    <tr>\n",
       "      <th>2</th>\n",
       "      <td>2</td>\n",
       "      <td>0</td>\n",
       "      <td>6</td>\n",
       "      <td>3</td>\n",
       "      <td>57</td>\n",
       "    </tr>\n",
       "    <tr>\n",
       "      <th>3</th>\n",
       "      <td>4</td>\n",
       "      <td>10</td>\n",
       "      <td>6</td>\n",
       "      <td>5</td>\n",
       "      <td>37</td>\n",
       "    </tr>\n",
       "    <tr>\n",
       "      <th>4</th>\n",
       "      <td>8</td>\n",
       "      <td>8</td>\n",
       "      <td>7</td>\n",
       "      <td>1</td>\n",
       "      <td>69</td>\n",
       "    </tr>\n",
       "  </tbody>\n",
       "</table>\n",
       "</div>"
      ],
      "text/plain": [
       "   Study Hours  Job Hours  Sleep Hours  Extracurricular Hours  Exam Score\n",
       "0            9         10            4                      2          56\n",
       "1            5          9            5                      1          46\n",
       "2            2          0            6                      3          57\n",
       "3            4         10            6                      5          37\n",
       "4            8          8            7                      1          69"
      ]
     },
     "execution_count": 10,
     "metadata": {},
     "output_type": "execute_result"
    }
   ],
   "source": [
    "data.head()"
   ]
  },
  {
   "cell_type": "code",
   "execution_count": 11,
   "id": "8aa89de8",
   "metadata": {},
   "outputs": [],
   "source": [
    "import statsmodels.api as sm\n",
    "\n",
    "#Define variable for simple regression\n",
    "X = data['Study Hours']\n",
    "Y = data['Exam Score']"
   ]
  },
  {
   "cell_type": "code",
   "execution_count": 17,
   "id": "e6ba4cf3",
   "metadata": {},
   "outputs": [
    {
     "data": {
      "text/html": [
       "<div>\n",
       "<style scoped>\n",
       "    .dataframe tbody tr th:only-of-type {\n",
       "        vertical-align: middle;\n",
       "    }\n",
       "\n",
       "    .dataframe tbody tr th {\n",
       "        vertical-align: top;\n",
       "    }\n",
       "\n",
       "    .dataframe thead th {\n",
       "        text-align: right;\n",
       "    }\n",
       "</style>\n",
       "<table border=\"1\" class=\"dataframe\">\n",
       "  <thead>\n",
       "    <tr style=\"text-align: right;\">\n",
       "      <th></th>\n",
       "      <th>const</th>\n",
       "      <th>Study Hours</th>\n",
       "    </tr>\n",
       "  </thead>\n",
       "  <tbody>\n",
       "    <tr>\n",
       "      <th>0</th>\n",
       "      <td>1.0</td>\n",
       "      <td>9</td>\n",
       "    </tr>\n",
       "    <tr>\n",
       "      <th>1</th>\n",
       "      <td>1.0</td>\n",
       "      <td>5</td>\n",
       "    </tr>\n",
       "    <tr>\n",
       "      <th>2</th>\n",
       "      <td>1.0</td>\n",
       "      <td>2</td>\n",
       "    </tr>\n",
       "    <tr>\n",
       "      <th>3</th>\n",
       "      <td>1.0</td>\n",
       "      <td>4</td>\n",
       "    </tr>\n",
       "    <tr>\n",
       "      <th>4</th>\n",
       "      <td>1.0</td>\n",
       "      <td>8</td>\n",
       "    </tr>\n",
       "  </tbody>\n",
       "</table>\n",
       "</div>"
      ],
      "text/plain": [
       "   const  Study Hours\n",
       "0    1.0            9\n",
       "1    1.0            5\n",
       "2    1.0            2\n",
       "3    1.0            4\n",
       "4    1.0            8"
      ]
     },
     "execution_count": 17,
     "metadata": {},
     "output_type": "execute_result"
    }
   ],
   "source": [
    "# Add intercept (constant term)\n",
    "X = sm.add_constant(X)\n",
    "X.head()"
   ]
  },
  {
   "cell_type": "code",
   "execution_count": 21,
   "id": "c3e90924",
   "metadata": {},
   "outputs": [
    {
     "name": "stdout",
     "output_type": "stream",
     "text": [
      "                            OLS Regression Results                            \n",
      "==============================================================================\n",
      "Dep. Variable:             Exam Score   R-squared:                       0.482\n",
      "Model:                            OLS   Adj. R-squared:                  0.468\n",
      "Method:                 Least Squares   F-statistic:                     35.32\n",
      "Date:                Wed, 08 Oct 2025   Prob (F-statistic):           6.82e-07\n",
      "Time:                        06:38:11   Log-Likelihood:                -161.99\n",
      "No. Observations:                  40   AIC:                             328.0\n",
      "Df Residuals:                      38   BIC:                             331.4\n",
      "Df Model:                           1                                         \n",
      "Covariance Type:            nonrobust                                         \n",
      "===============================================================================\n",
      "                  coef    std err          t      P>|t|      [0.025      0.975]\n",
      "-------------------------------------------------------------------------------\n",
      "const          24.6404      5.476      4.500      0.000      13.556      35.725\n",
      "Study Hours     5.4672      0.920      5.943      0.000       3.605       7.330\n",
      "==============================================================================\n",
      "Omnibus:                        6.602   Durbin-Watson:                   1.738\n",
      "Prob(Omnibus):                  0.037   Jarque-Bera (JB):                2.695\n",
      "Skew:                           0.316   Prob(JB):                        0.260\n",
      "Kurtosis:                       1.896   Cond. No.                         14.8\n",
      "==============================================================================\n",
      "\n",
      "Notes:\n",
      "[1] Standard Errors assume that the covariance matrix of the errors is correctly specified.\n"
     ]
    }
   ],
   "source": [
    "# Fit model using OLS (ordinary Least Squares)\n",
    "model = sm.OLS(Y, X).fit()\n",
    "\n",
    "# Display summary\n",
    "print(model.summary())"
   ]
  },
  {
   "cell_type": "code",
   "execution_count": 14,
   "id": "a5beff7b",
   "metadata": {},
   "outputs": [
    {
     "name": "stderr",
     "output_type": "stream",
     "text": [
      "C:\\Users\\kanyi\\AppData\\Local\\Temp\\ipykernel_21472\\3821536756.py:10: FutureWarning: Series.__getitem__ treating keys as positions is deprecated. In a future version, integer keys will always be treated as labels (consistent with DataFrame behavior). To access a value by position, use `ser.iloc[pos]`\n",
      "  plt.text(2, max(data['Exam Score'])-5, f'Y={model.params[0]:.2f} + {model.params[1]:.2f}X', color='red', fontsize=12)\n"
     ]
    },
    {
     "data": {
      "text/plain": [
       "<function matplotlib.pyplot.show(close=None, block=None)>"
      ]
     },
     "execution_count": 14,
     "metadata": {},
     "output_type": "execute_result"
    },
    {
     "data": {
      "image/png": "[encoded data removed]",
      "text/plain": [
       "<Figure size 800x600 with 1 Axes>"
      ]
     },
     "metadata": {},
     "output_type": "display_data"
    }
   ],
   "source": [
    "# Lets have the regression plot using regression line and scatter plot\n",
    "plt.figure(figsize=(8,6))\n",
    "plt.scatter(data['Study Hours'], data['Exam Score'], color='skyblue', label='Actual Scores')\n",
    "plt.plot(data['Study Hours'], model.predict(X), color='red', label='Regression Line')\n",
    "\n",
    "# Annotate\n",
    "plt.title('Simple Linear Rgression: Study Hours vs Exam Score', fontsize=14, weight='bold')\n",
    "plt.xlabel('Study Hours')\n",
    "plt.ylabel('Exam Score')\n",
    "plt.text(2, max(data['Exam Score'])-5, f'Y={model.params[0]:.2f} + {model.params[1]:.2f}X', color='red', fontsize=12)\n",
    "plt.legend()\n",
    "plt.grid(alpha=0.3)\n",
    "plt.show\n",
    "\n"
   ]
  },
  {
   "cell_type": "markdown",
   "id": "6a8772b9",
   "metadata": {},
   "source": [
    "This is our equation;\n",
    "`Exam Score = 24.6404 + 5.4672 * Study_Hours`\n",
    "\n",
    "`24.6404` -  This is the intercept (constant term).\n",
    "It means that when a student studies 0 hours, their expected exam score is about 24.64 points.\n",
    "\n",
    "`5.4672` -  This is the slope coefficient for Study Hours.\n",
    "It means for every additional 1 hour of study, the student’s exam score is expected to increase by about 5.47 points, on average."
   ]
  },
  {
   "cell_type": "markdown",
   "id": "99cf3b8c",
   "metadata": {},
   "source": [
    "| Statistic                               | Meaning                                                       | Interpretation                                                                                                        |                                 |                                                                                                       |\n",
    "| --------------------------------------- | ------------------------------------------------------------- | --------------------------------------------------------------------------------------------------------------------- | ------------------------------- | ----------------------------------------------------------------------------------------------------- |\n",
    "| **Dep. Variable: Exam Score**           | The outcome we’re trying to predict                           | Exam performance of students                                                                                          |                                 |                                                                                                       |\n",
    "| **Model: OLS (Ordinary Least Squares)** | The estimation technique                                      | Standard linear regression method minimizing squared errors                                                           |                                 |                                                                                                       |\n",
    "| **R-squared = 0.482**                   | Proportion of variance in Exam Score explained by Study Hours | About **48.2% of the variation** in exam scores is explained by study hours alone — a moderate to strong relationship |                                 |                                                                                                       |\n",
    "| **Adj. R-squared = 0.468**              | Adjusted version accounting for number of predictors          | Very close to R² since we have only one predictor — confirms reliability                                              |                                 |                                                                                                       |\n",
    "| **F-statistic = 35.32**                 | Tests if the model as a whole is statistically significant    | High F-value → model is statistically significant                                                                     |                                 |                                                                                                       |\n",
    "| **Prob (F-statistic) = 6.82e-07**       | p-value of the overall model                                  | **p < 0.001**, so the model is highly significant (rejects null hypothesis that slope = 0)                            |                                 |                                                                                                       |\n",
    "| **const = 24.6404**                     | Intercept                                                     | Predicted score when Study Hours = 0                                                                                  |                                 |                                                                                                       |\n",
    "| **Study Hours = 5.4672**                | Coefficient (slope)                                           | For each extra hour of study, exam score increases by ~5.47                                                           |                                 |                                                                                                       |\n",
    "| **t = 5.943, P>                         | t                                                             | = 0.000**                                                                                                             | Significance test for the slope | Very small p-value → slope is **statistically significant** (Study Hours truly influences Exam Score) |\n",
    "| **[0.025, 0.975] = [3.605, 7.330]**     | 95% confidence interval for the slope                         | We are 95% confident the true slope is between **3.61 and 7.33**, showing positive effect                             |                                 |                                                                                                       |\n",
    "| **Durbin-Watson = 1.738**               | Checks for autocorrelation in residuals                       | Close to 2 → No serious autocorrelation problem                                                                       |                                 |                                                                                                       |\n",
    "| **Omnibus, JB, Skew, Kurtosis**         | Normality tests of residuals                                  | Values suggest residuals are approximately normal (no strong deviation)                                               |                                 |                                                                                                       |\n"
   ]
  },
  {
   "cell_type": "markdown",
   "id": "47f7d55f",
   "metadata": {},
   "source": [
    "To summarize our result, we would say that;\n",
    "\n",
    "1. There is a strong, positive, and statistically significant relationship between how long students study and their exam performance.\n",
    "\n",
    "2. Study Hours alone explains nearly half of the variability in scores.\n",
    "\n",
    "The regression line gives us a predictive model or equation.\n",
    "\n",
    "`Predicted_Exam_Score\n",
    "=24.64 + 5.47 * Study_Hours`\n",
    "Predicted Exam Score=24.64+5.47×Study Hours\n",
    "\n",
    "- The **p-value < 0.001** confirms that the relationship is not due to chance."
   ]
  },
  {
   "cell_type": "markdown",
   "id": "4a28ae62",
   "metadata": {},
   "source": [
    "**Lets Evaluate Our Model**"
   ]
  },
  {
   "cell_type": "code",
   "execution_count": null,
   "id": "5a64c15a",
   "metadata": {},
   "outputs": [],
   "source": [
    "# Lets evaluate our model\n",
    "predictions = model.predict(X)\n",
    "predictions"
   ]
  },
  {
   "cell_type": "markdown",
   "id": "381ac58d",
   "metadata": {},
   "source": [
    "`Residual(e) ​= Y(actual)​ ​− Y(predicted)**2`"
   ]
  },
  {
   "cell_type": "code",
   "execution_count": 46,
   "id": "23844a1c",
   "metadata": {},
   "outputs": [
    {
     "data": {
      "text/html": [
       "<div>\n",
       "<style scoped>\n",
       "    .dataframe tbody tr th:only-of-type {\n",
       "        vertical-align: middle;\n",
       "    }\n",
       "\n",
       "    .dataframe tbody tr th {\n",
       "        vertical-align: top;\n",
       "    }\n",
       "\n",
       "    .dataframe thead th {\n",
       "        text-align: right;\n",
       "    }\n",
       "</style>\n",
       "<table border=\"1\" class=\"dataframe\">\n",
       "  <thead>\n",
       "    <tr style=\"text-align: right;\">\n",
       "      <th></th>\n",
       "      <th>Study Hours</th>\n",
       "      <th>Exam Score</th>\n",
       "      <th>Predicted Exam Score</th>\n",
       "      <th>Squared Error</th>\n",
       "    </tr>\n",
       "  </thead>\n",
       "  <tbody>\n",
       "    <tr>\n",
       "      <th>0</th>\n",
       "      <td>9</td>\n",
       "      <td>56</td>\n",
       "      <td>59.646999</td>\n",
       "      <td>13.300598</td>\n",
       "    </tr>\n",
       "    <tr>\n",
       "      <th>1</th>\n",
       "      <td>5</td>\n",
       "      <td>46</td>\n",
       "      <td>46.678163</td>\n",
       "      <td>0.459905</td>\n",
       "    </tr>\n",
       "    <tr>\n",
       "      <th>2</th>\n",
       "      <td>2</td>\n",
       "      <td>57</td>\n",
       "      <td>60.885147</td>\n",
       "      <td>15.094366</td>\n",
       "    </tr>\n",
       "    <tr>\n",
       "      <th>3</th>\n",
       "      <td>4</td>\n",
       "      <td>37</td>\n",
       "      <td>36.958674</td>\n",
       "      <td>0.001708</td>\n",
       "    </tr>\n",
       "    <tr>\n",
       "      <th>4</th>\n",
       "      <td>8</td>\n",
       "      <td>69</td>\n",
       "      <td>66.894764</td>\n",
       "      <td>4.432018</td>\n",
       "    </tr>\n",
       "  </tbody>\n",
       "</table>\n",
       "</div>"
      ],
      "text/plain": [
       "   Study Hours  Exam Score  Predicted Exam Score  Squared Error\n",
       "0            9          56             59.646999      13.300598\n",
       "1            5          46             46.678163       0.459905\n",
       "2            2          57             60.885147      15.094366\n",
       "3            4          37             36.958674       0.001708\n",
       "4            8          69             66.894764       4.432018"
      ]
     },
     "execution_count": 46,
     "metadata": {},
     "output_type": "execute_result"
    }
   ],
   "source": [
    "# Calculating the residual errors usig the predicted score\n",
    "data['Predicted Exam Score'] = predictions\n",
    "data['Squared Error'] = (data['Exam Score'] - data['Predicted Exam Score']) **2\n",
    "\n",
    "#Show a few rows\n",
    "data[['Study Hours', 'Exam Score', 'Predicted Exam Score', 'Squared Error']].head()\n"
   ]
  },
  {
   "cell_type": "markdown",
   "id": "96ee5444",
   "metadata": {},
   "source": [
    "Each squared error shows how much our model missed by making inaccurate prediction of larger values or lesser values.\n",
    "\n",
    "For us to conclude that we have a good model, our error must be as small as possible- that is, the model should minimize loss."
   ]
  },
  {
   "cell_type": "markdown",
   "id": "59a68f07",
   "metadata": {},
   "source": [
    "**Do well to take note of this and their difference**\n",
    "- Error term (ε): theoretical, unobservable noise in the true population model.\n",
    "\n",
    "- Residual (e): observable difference between actual and predicted values in your sample"
   ]
  },
  {
   "cell_type": "markdown",
   "id": "379f0be6",
   "metadata": {},
   "source": [
    "#### **multiple linear regression (several predictors)**"
   ]
  },
  {
   "cell_type": "markdown",
   "id": "ff55b2ce",
   "metadata": {},
   "source": [
    "Here, our dependent variable is still Exam_Score,\n",
    "but we will use multiple predictors or features\n",
    "\n",
    "- Study Hours, Job Hours, Sleep Hours, Extracurricular Hours"
   ]
  },
  {
   "cell_type": "code",
   "execution_count": 47,
   "id": "915fbe36",
   "metadata": {},
   "outputs": [],
   "source": [
    "# Define the predictors (independent variables)\n",
    "X = data[['Study Hours', 'Job Hours', 'Sleep Hours', 'Extracurricular Hours']]\n"
   ]
  },
  {
   "cell_type": "code",
   "execution_count": 48,
   "id": "aeb81deb",
   "metadata": {},
   "outputs": [
    {
     "data": {
      "text/html": [
       "<div>\n",
       "<style scoped>\n",
       "    .dataframe tbody tr th:only-of-type {\n",
       "        vertical-align: middle;\n",
       "    }\n",
       "\n",
       "    .dataframe tbody tr th {\n",
       "        vertical-align: top;\n",
       "    }\n",
       "\n",
       "    .dataframe thead th {\n",
       "        text-align: right;\n",
       "    }\n",
       "</style>\n",
       "<table border=\"1\" class=\"dataframe\">\n",
       "  <thead>\n",
       "    <tr style=\"text-align: right;\">\n",
       "      <th></th>\n",
       "      <th>Study Hours</th>\n",
       "      <th>Job Hours</th>\n",
       "      <th>Sleep Hours</th>\n",
       "      <th>Extracurricular Hours</th>\n",
       "    </tr>\n",
       "  </thead>\n",
       "  <tbody>\n",
       "    <tr>\n",
       "      <th>0</th>\n",
       "      <td>9</td>\n",
       "      <td>10</td>\n",
       "      <td>4</td>\n",
       "      <td>2</td>\n",
       "    </tr>\n",
       "    <tr>\n",
       "      <th>1</th>\n",
       "      <td>5</td>\n",
       "      <td>9</td>\n",
       "      <td>5</td>\n",
       "      <td>1</td>\n",
       "    </tr>\n",
       "    <tr>\n",
       "      <th>2</th>\n",
       "      <td>2</td>\n",
       "      <td>0</td>\n",
       "      <td>6</td>\n",
       "      <td>3</td>\n",
       "    </tr>\n",
       "    <tr>\n",
       "      <th>3</th>\n",
       "      <td>4</td>\n",
       "      <td>10</td>\n",
       "      <td>6</td>\n",
       "      <td>5</td>\n",
       "    </tr>\n",
       "    <tr>\n",
       "      <th>4</th>\n",
       "      <td>8</td>\n",
       "      <td>8</td>\n",
       "      <td>7</td>\n",
       "      <td>1</td>\n",
       "    </tr>\n",
       "  </tbody>\n",
       "</table>\n",
       "</div>"
      ],
      "text/plain": [
       "   Study Hours  Job Hours  Sleep Hours  Extracurricular Hours\n",
       "0            9         10            4                      2\n",
       "1            5          9            5                      1\n",
       "2            2          0            6                      3\n",
       "3            4         10            6                      5\n",
       "4            8          8            7                      1"
      ]
     },
     "execution_count": 48,
     "metadata": {},
     "output_type": "execute_result"
    }
   ],
   "source": [
    "X.head()"
   ]
  },
  {
   "cell_type": "code",
   "execution_count": 49,
   "id": "69cb82c1",
   "metadata": {},
   "outputs": [],
   "source": [
    "# Add constant term (intercept)\n",
    "X = sm.add_constant(X)\n"
   ]
  },
  {
   "cell_type": "markdown",
   "id": "e591f185",
   "metadata": {},
   "source": [
    "**What the Constant (Intercept) Represents**\n",
    "\n",
    "- The constant (b₀) represents the predicted value of Y when all Xs = 0."
   ]
  },
  {
   "cell_type": "markdown",
   "id": "82ba2ba1",
   "metadata": {},
   "source": [
    "| Reason                                                       | Explanation                                                                                                                                   |\n",
    "| ------------------------------------------------------------ | --------------------------------------------------------------------------------------------------------------------------------------------- |\n",
    "| **1. To capture the baseline level of Y**                    | Even when all predictors are zero, Y might not be zero. For example, some students will score *something* even without studying.              |\n",
    "| **2. To avoid forcing the line through the origin (0,0)**    | Without the constant, your regression line *must* pass through the origin, which is often unrealistic and can distort all other coefficients. |\n",
    "| **3. To improve model fit**                                  | The intercept helps shift the regression line vertically to best fit the data. Without it, your model can have larger errors.                 |\n",
    "| **4. To correctly estimate slopes**                          | If you omit the intercept, the slope estimates may become biased, because the model is trying to “force-fit” around zero.                     |\n",
    "| **5. Because real-world data usually has nonzero baselines** | For example, people have some exam performance, income, or blood pressure even when explanatory variables are at 0.                           |\n"
   ]
  },
  {
   "cell_type": "code",
   "execution_count": 50,
   "id": "f458655c",
   "metadata": {},
   "outputs": [
    {
     "data": {
      "text/html": [
       "<div>\n",
       "<style scoped>\n",
       "    .dataframe tbody tr th:only-of-type {\n",
       "        vertical-align: middle;\n",
       "    }\n",
       "\n",
       "    .dataframe tbody tr th {\n",
       "        vertical-align: top;\n",
       "    }\n",
       "\n",
       "    .dataframe thead th {\n",
       "        text-align: right;\n",
       "    }\n",
       "</style>\n",
       "<table border=\"1\" class=\"dataframe\">\n",
       "  <thead>\n",
       "    <tr style=\"text-align: right;\">\n",
       "      <th></th>\n",
       "      <th>const</th>\n",
       "      <th>Study Hours</th>\n",
       "      <th>Job Hours</th>\n",
       "      <th>Sleep Hours</th>\n",
       "      <th>Extracurricular Hours</th>\n",
       "    </tr>\n",
       "  </thead>\n",
       "  <tbody>\n",
       "    <tr>\n",
       "      <th>0</th>\n",
       "      <td>1.0</td>\n",
       "      <td>9</td>\n",
       "      <td>10</td>\n",
       "      <td>4</td>\n",
       "      <td>2</td>\n",
       "    </tr>\n",
       "    <tr>\n",
       "      <th>1</th>\n",
       "      <td>1.0</td>\n",
       "      <td>5</td>\n",
       "      <td>9</td>\n",
       "      <td>5</td>\n",
       "      <td>1</td>\n",
       "    </tr>\n",
       "    <tr>\n",
       "      <th>2</th>\n",
       "      <td>1.0</td>\n",
       "      <td>2</td>\n",
       "      <td>0</td>\n",
       "      <td>6</td>\n",
       "      <td>3</td>\n",
       "    </tr>\n",
       "    <tr>\n",
       "      <th>3</th>\n",
       "      <td>1.0</td>\n",
       "      <td>4</td>\n",
       "      <td>10</td>\n",
       "      <td>6</td>\n",
       "      <td>5</td>\n",
       "    </tr>\n",
       "    <tr>\n",
       "      <th>4</th>\n",
       "      <td>1.0</td>\n",
       "      <td>8</td>\n",
       "      <td>8</td>\n",
       "      <td>7</td>\n",
       "      <td>1</td>\n",
       "    </tr>\n",
       "  </tbody>\n",
       "</table>\n",
       "</div>"
      ],
      "text/plain": [
       "   const  Study Hours  Job Hours  Sleep Hours  Extracurricular Hours\n",
       "0    1.0            9         10            4                      2\n",
       "1    1.0            5          9            5                      1\n",
       "2    1.0            2          0            6                      3\n",
       "3    1.0            4         10            6                      5\n",
       "4    1.0            8          8            7                      1"
      ]
     },
     "execution_count": 50,
     "metadata": {},
     "output_type": "execute_result"
    }
   ],
   "source": [
    "X.head()"
   ]
  },
  {
   "cell_type": "code",
   "execution_count": 51,
   "id": "a4def09c",
   "metadata": {},
   "outputs": [
    {
     "data": {
      "text/plain": [
       "0    56\n",
       "1    46\n",
       "2    57\n",
       "3    37\n",
       "4    69\n",
       "Name: Exam Score, dtype: int32"
      ]
     },
     "execution_count": 51,
     "metadata": {},
     "output_type": "execute_result"
    }
   ],
   "source": [
    "# Define the dependent variables\n",
    "Y = data['Exam Score']\n",
    "Y.head()"
   ]
  },
  {
   "cell_type": "code",
   "execution_count": 52,
   "id": "07ec2a51",
   "metadata": {},
   "outputs": [],
   "source": [
    "# Fit OLS regression\n",
    "model = sm.OLS(Y, X).fit()"
   ]
  },
  {
   "cell_type": "code",
   "execution_count": 29,
   "id": "26480a93",
   "metadata": {},
   "outputs": [
    {
     "data": {
      "text/plain": [
       "const                    44.790203\n",
       "Study Hours               4.641188\n",
       "Job Hours                -3.145561\n",
       "Sleep Hours               1.573738\n",
       "Extracurricular Hours    -0.876619\n",
       "dtype: float64"
      ]
     },
     "execution_count": 29,
     "metadata": {},
     "output_type": "execute_result"
    }
   ],
   "source": [
    "# Checking the estimated co-effcients\n",
    "model.params\n"
   ]
  },
  {
   "cell_type": "markdown",
   "id": "03e47848",
   "metadata": {},
   "source": [
    "`Predicted Exam Score = 44.79 + 4.64(Study Hours) − 3.15(Job Hours) + 1.57(Sleep Hours) −0.88(Extracurricular Hours)`"
   ]
  },
  {
   "cell_type": "markdown",
   "id": "4b597f22",
   "metadata": {},
   "source": [
    "| Coefficient                       | Meaning                       | Interpretation                                                                                                                                                                       |\n",
    "| --------------------------------- | ----------------------------- | ------------------------------------------------------------------------------------------------------------------------------------------------------------------------------------ |\n",
    "| **const = 44.79**                 | The intercept (constant term) | If a student does **0 hours** of study, job, sleep, and extracurriculars, their baseline exam score is **44.79**. It’s the model’s predicted starting point.                         |\n",
    "| **Study Hours = +4.64**           | Positive relationship         | Each **additional hour of study** is expected to **increase** the exam score by about **4.64 points**, holding all other factors constant.                                           |\n",
    "| **Job Hours = -3.15**             | Negative relationship         | Each **additional hour spent working a job** is expected to **decrease** exam score by about **3.15 points**, all else equal (since more job hours might reduce study time or rest). |\n",
    "| **Sleep Hours = +1.57**           | Positive relationship         | Each **extra hour of sleep** increases exam score by about **1.57 points**, holding other variables constant.                                                                        |\n",
    "| **Extracurricular Hours = -0.88** | Negative relationship         | Each **extra hour spent on extracurricular activities** reduces exam score by about **0.88 points**, likely because it cuts into study or rest time.                                 |\n"
   ]
  },
  {
   "cell_type": "markdown",
   "id": "b7c6663f",
   "metadata": {},
   "source": [
    "model.params gives the estimated weights the model assigns to each factor.\n",
    "\n",
    "Together, they define the best-fitting line (or hyperplane) through your multidimensional data.\n",
    "\n",
    "The signs (+ or -) show direction of the relationship.\n",
    "\n",
    "The magnitudes show how strong each effect is."
   ]
  },
  {
   "cell_type": "markdown",
   "id": "824d200c",
   "metadata": {},
   "source": [
    "**How to Interpret \"Holding Other Factors Constant\"**\n",
    "\n",
    "In multiple regression, each coefficient shows the unique effect of that variable after controlling for others.\n",
    "\n",
    "For example:\n",
    "\n",
    "The “4.64” for Study Hours means the gain in exam score due to study time, assuming sleep, job hours, and extracurricular activities remain the same.\n",
    "\n",
    "So this model isolates the independent impact of each variable that’s simply the power of multiple regression."
   ]
  },
  {
   "cell_type": "markdown",
   "id": "c70ccdfb",
   "metadata": {},
   "source": [
    "**Bringing Our Interpretation to life**"
   ]
  },
  {
   "cell_type": "markdown",
   "id": "fa173771",
   "metadata": {},
   "source": [
    "Positive Influences\n",
    "\n",
    " - Study Hours and Sleep Hours both improve exam scores.\n",
    "\n",
    "Negative Influences\n",
    "\n",
    "- Job Hours and Extracurricular Hours lower exam scores.\n",
    "\n",
    "Insight\n",
    "\n",
    "- This aligns with intuition — more study and sleep are beneficial, while too much work or extracurricular activity can hurt performance."
   ]
  },
  {
   "cell_type": "code",
   "execution_count": 53,
   "id": "136e5e09",
   "metadata": {},
   "outputs": [
    {
     "data": {
      "image/png": "[encoded data removed]",
      "text/plain": [
       "<Figure size 1000x800 with 5 Axes>"
      ]
     },
     "metadata": {},
     "output_type": "display_data"
    }
   ],
   "source": [
    "fig = plt.figure(figsize=(10,8))\n",
    "sm.graphics.plot_partregress_grid(model, fig=fig)\n",
    "plt.suptitle('Partial Regression Plots for All Predictors', fontsize=14)\n",
    "plt.show()"
   ]
  },
  {
   "cell_type": "code",
   "execution_count": 32,
   "id": "fa7e8957",
   "metadata": {},
   "outputs": [
    {
     "name": "stdout",
     "output_type": "stream",
     "text": [
      "                            OLS Regression Results                            \n",
      "==============================================================================\n",
      "Dep. Variable:             Exam Score   R-squared:                       0.980\n",
      "Model:                            OLS   Adj. R-squared:                  0.978\n",
      "Method:                 Least Squares   F-statistic:                     429.2\n",
      "Date:                Wed, 08 Oct 2025   Prob (F-statistic):           3.31e-29\n",
      "Time:                        07:15:22   Log-Likelihood:                -96.874\n",
      "No. Observations:                  40   AIC:                             203.7\n",
      "Df Residuals:                      35   BIC:                             212.2\n",
      "Df Model:                           4                                         \n",
      "Covariance Type:            nonrobust                                         \n",
      "=========================================================================================\n",
      "                            coef    std err          t      P>|t|      [0.025      0.975]\n",
      "-----------------------------------------------------------------------------------------\n",
      "const                    44.7902      2.350     19.061      0.000      40.020      49.561\n",
      "Study Hours               4.6412      0.191     24.320      0.000       4.254       5.029\n",
      "Job Hours                -3.1456      0.111    -28.349      0.000      -3.371      -2.920\n",
      "Sleep Hours               1.5737      0.338      4.656      0.000       0.888       2.260\n",
      "Extracurricular Hours    -0.8766      0.274     -3.194      0.003      -1.434      -0.319\n",
      "==============================================================================\n",
      "Omnibus:                        1.763   Durbin-Watson:                   2.121\n",
      "Prob(Omnibus):                  0.414   Jarque-Bera (JB):                1.201\n",
      "Skew:                          -0.134   Prob(JB):                        0.548\n",
      "Kurtosis:                       2.195   Cond. No.                         59.5\n",
      "==============================================================================\n",
      "\n",
      "Notes:\n",
      "[1] Standard Errors assume that the covariance matrix of the errors is correctly specified.\n"
     ]
    }
   ],
   "source": [
    "# Display summary\n",
    "print(model.summary())"
   ]
  },
  {
   "cell_type": "code",
   "execution_count": 37,
   "id": "60061f4c",
   "metadata": {},
   "outputs": [],
   "source": [
    "#Creating a synthetic dataset\n",
    "\n",
    "jollof_rice = 20\n",
    "\n",
    "rice = np.random.randint(1,20, jollof_rice) # 1 to 19 cups of rice\n",
    "oil = np.random.randint(0, 2, jollof_rice) # 0 to 2 cooking spoons of oil\n",
    "pepper = np.random.randint(2, 8, jollof_rice) # 2 to 8 sppons of pepper\n",
    "spice = np.random.randint(0, 5, jollof_rice) # 0 to 5 teaspoons of spices\n",
    "okro = np.random.randint(0, 2, jollof_rice) # 1, 9  cups of carrot\n",
    "\n",
    "# Quality positively influenced by rice, oil, rice, pepper, spice and negatively influenced by okro\n",
    "quality = (20\n",
    "           +5*rice  #strong positive\n",
    "           +3*oil   # moderate positive\n",
    "           +3*pepper    # moderate positive\n",
    "           +3*spice # moderate positive\n",
    "           -5*okro  #strong negative           \n",
    "           )\n",
    "\n",
    "data1 = pd.DataFrame({\n",
    "    'Rice' : rice,\n",
    "    'Oil': oil,\n",
    "    'Pepper': pepper,\n",
    "    'Spice': spice,\n",
    "    'Okro': okro,\n",
    "    'Quality': quality\n",
    "})"
   ]
  },
  {
   "cell_type": "code",
   "execution_count": 38,
   "id": "cf838316",
   "metadata": {},
   "outputs": [
    {
     "data": {
      "text/html": [
       "<div>\n",
       "<style scoped>\n",
       "    .dataframe tbody tr th:only-of-type {\n",
       "        vertical-align: middle;\n",
       "    }\n",
       "\n",
       "    .dataframe tbody tr th {\n",
       "        vertical-align: top;\n",
       "    }\n",
       "\n",
       "    .dataframe thead th {\n",
       "        text-align: right;\n",
       "    }\n",
       "</style>\n",
       "<table border=\"1\" class=\"dataframe\">\n",
       "  <thead>\n",
       "    <tr style=\"text-align: right;\">\n",
       "      <th></th>\n",
       "      <th>Rice</th>\n",
       "      <th>Oil</th>\n",
       "      <th>Pepper</th>\n",
       "      <th>Spice</th>\n",
       "      <th>Okro</th>\n",
       "      <th>Quality</th>\n",
       "    </tr>\n",
       "  </thead>\n",
       "  <tbody>\n",
       "    <tr>\n",
       "      <th>0</th>\n",
       "      <td>3</td>\n",
       "      <td>1</td>\n",
       "      <td>2</td>\n",
       "      <td>4</td>\n",
       "      <td>1</td>\n",
       "      <td>51</td>\n",
       "    </tr>\n",
       "    <tr>\n",
       "      <th>1</th>\n",
       "      <td>4</td>\n",
       "      <td>0</td>\n",
       "      <td>2</td>\n",
       "      <td>0</td>\n",
       "      <td>1</td>\n",
       "      <td>41</td>\n",
       "    </tr>\n",
       "    <tr>\n",
       "      <th>2</th>\n",
       "      <td>11</td>\n",
       "      <td>0</td>\n",
       "      <td>7</td>\n",
       "      <td>4</td>\n",
       "      <td>1</td>\n",
       "      <td>103</td>\n",
       "    </tr>\n",
       "    <tr>\n",
       "      <th>3</th>\n",
       "      <td>7</td>\n",
       "      <td>1</td>\n",
       "      <td>3</td>\n",
       "      <td>1</td>\n",
       "      <td>1</td>\n",
       "      <td>65</td>\n",
       "    </tr>\n",
       "    <tr>\n",
       "      <th>4</th>\n",
       "      <td>4</td>\n",
       "      <td>0</td>\n",
       "      <td>4</td>\n",
       "      <td>3</td>\n",
       "      <td>1</td>\n",
       "      <td>56</td>\n",
       "    </tr>\n",
       "  </tbody>\n",
       "</table>\n",
       "</div>"
      ],
      "text/plain": [
       "   Rice  Oil  Pepper  Spice  Okro  Quality\n",
       "0     3    1       2      4     1       51\n",
       "1     4    0       2      0     1       41\n",
       "2    11    0       7      4     1      103\n",
       "3     7    1       3      1     1       65\n",
       "4     4    0       4      3     1       56"
      ]
     },
     "execution_count": 38,
     "metadata": {},
     "output_type": "execute_result"
    }
   ],
   "source": [
    "data1.head()"
   ]
  },
  {
   "cell_type": "code",
   "execution_count": 40,
   "id": "17f3c975",
   "metadata": {},
   "outputs": [
    {
     "data": {
      "text/html": [
       "<div>\n",
       "<style scoped>\n",
       "    .dataframe tbody tr th:only-of-type {\n",
       "        vertical-align: middle;\n",
       "    }\n",
       "\n",
       "    .dataframe tbody tr th {\n",
       "        vertical-align: top;\n",
       "    }\n",
       "\n",
       "    .dataframe thead th {\n",
       "        text-align: right;\n",
       "    }\n",
       "</style>\n",
       "<table border=\"1\" class=\"dataframe\">\n",
       "  <thead>\n",
       "    <tr style=\"text-align: right;\">\n",
       "      <th></th>\n",
       "      <th>Rice</th>\n",
       "      <th>Oil</th>\n",
       "      <th>Pepper</th>\n",
       "      <th>Spice</th>\n",
       "      <th>Okro</th>\n",
       "      <th>Quality</th>\n",
       "    </tr>\n",
       "  </thead>\n",
       "  <tbody>\n",
       "    <tr>\n",
       "      <th>Rice</th>\n",
       "      <td>1.000000</td>\n",
       "      <td>0.321155</td>\n",
       "      <td>0.179360</td>\n",
       "      <td>0.065666</td>\n",
       "      <td>-0.189184</td>\n",
       "      <td>0.967667</td>\n",
       "    </tr>\n",
       "    <tr>\n",
       "      <th>Oil</th>\n",
       "      <td>0.321155</td>\n",
       "      <td>1.000000</td>\n",
       "      <td>0.267026</td>\n",
       "      <td>-0.151728</td>\n",
       "      <td>0.256776</td>\n",
       "      <td>0.346734</td>\n",
       "    </tr>\n",
       "    <tr>\n",
       "      <th>Pepper</th>\n",
       "      <td>0.179360</td>\n",
       "      <td>0.267026</td>\n",
       "      <td>1.000000</td>\n",
       "      <td>0.088397</td>\n",
       "      <td>0.182842</td>\n",
       "      <td>0.375542</td>\n",
       "    </tr>\n",
       "    <tr>\n",
       "      <th>Spice</th>\n",
       "      <td>0.065666</td>\n",
       "      <td>-0.151728</td>\n",
       "      <td>0.088397</td>\n",
       "      <td>1.000000</td>\n",
       "      <td>0.120422</td>\n",
       "      <td>0.206165</td>\n",
       "    </tr>\n",
       "    <tr>\n",
       "      <th>Okro</th>\n",
       "      <td>-0.189184</td>\n",
       "      <td>0.256776</td>\n",
       "      <td>0.182842</td>\n",
       "      <td>0.120422</td>\n",
       "      <td>1.000000</td>\n",
       "      <td>-0.179795</td>\n",
       "    </tr>\n",
       "    <tr>\n",
       "      <th>Quality</th>\n",
       "      <td>0.967667</td>\n",
       "      <td>0.346734</td>\n",
       "      <td>0.375542</td>\n",
       "      <td>0.206165</td>\n",
       "      <td>-0.179795</td>\n",
       "      <td>1.000000</td>\n",
       "    </tr>\n",
       "  </tbody>\n",
       "</table>\n",
       "</div>"
      ],
      "text/plain": [
       "             Rice       Oil    Pepper     Spice      Okro   Quality\n",
       "Rice     1.000000  0.321155  0.179360  0.065666 -0.189184  0.967667\n",
       "Oil      0.321155  1.000000  0.267026 -0.151728  0.256776  0.346734\n",
       "Pepper   0.179360  0.267026  1.000000  0.088397  0.182842  0.375542\n",
       "Spice    0.065666 -0.151728  0.088397  1.000000  0.120422  0.206165\n",
       "Okro    -0.189184  0.256776  0.182842  0.120422  1.000000 -0.179795\n",
       "Quality  0.967667  0.346734  0.375542  0.206165 -0.179795  1.000000"
      ]
     },
     "execution_count": 40,
     "metadata": {},
     "output_type": "execute_result"
    }
   ],
   "source": [
    "# Lets compute the correlation co-efficients for each data feature\n",
    "corr_efficients1 = data1.corr()\n",
    "corr_efficients1"
   ]
  },
  {
   "cell_type": "code",
   "execution_count": 41,
   "id": "395a8e7a",
   "metadata": {},
   "outputs": [
    {
     "data": {
      "text/plain": [
       "Index(['Rice', 'Oil', 'Pepper', 'Spice', 'Okro', 'Quality'], dtype='object')"
      ]
     },
     "execution_count": 41,
     "metadata": {},
     "output_type": "execute_result"
    }
   ],
   "source": [
    "#Checking the columns\n",
    "data1.columns"
   ]
  },
  {
   "cell_type": "code",
   "execution_count": 42,
   "id": "7ed848f6",
   "metadata": {},
   "outputs": [],
   "source": [
    "# Lets plot the relationship on a scatterplot\n",
    "corr1 = data1[['Rice', 'Oil', 'Pepper', 'Spice']].corr()"
   ]
  },
  {
   "cell_type": "code",
   "execution_count": null,
   "id": "9309b483",
   "metadata": {},
   "outputs": [
    {
     "ename": "SyntaxError",
     "evalue": "invalid syntax. Perhaps you forgot a comma? (1768538584.py, line 10)",
     "output_type": "error",
     "traceback": [
      "  \u001b[36mCell\u001b[39m\u001b[36m \u001b[39m\u001b[32mIn[43]\u001b[39m\u001b[32m, line 10\u001b[39m\n\u001b[31m    \u001b[39m\u001b[31mplt.text(3, max(data['Oil'])5,\u001b[39m\n                ^\n\u001b[31mSyntaxError\u001b[39m\u001b[31m:\u001b[39m invalid syntax. Perhaps you forgot a comma?\n"
     ]
    }
   ],
   "source": [
    "# Positive and Negative examples\n",
    "fig = plt.figure(figsize=(12,6))\n",
    "\n",
    "# Positive Correlation: 'O vs 'Quality'\n",
    "plt.subplot(1,2,1)\n",
    "sns.scatterplot(x='Rice', y='Quality', data=data1, color='blue')\n",
    "plt.title('Positive Correlation:\\nRice vs Quality')\n",
    "plt.xlabel()\n",
    "plt.ylabel()\n",
    "plt.text(3, max(data['Rice'])5,\n",
    "         f'r={corr.loc['Rice', 'Quality']:.2f}',\n",
    "        fontsize=12, color='darkred',\n",
    "        bbox=dict(facecolor='white', edgecolor='red'))\n",
    "plt.grid(True, linestyle='--', alpha=0.3)\n",
    "\n",
    "\n",
    "\n",
    "#Negative Correlation : Rice vs Quality\n",
    "plt.show"
   ]
  }
 ],
 "metadata": {
  "kernelspec": {
   "display_name": "my_vle",
   "language": "python",
   "name": "python3"
  },
  "language_info": {
   "codemirror_mode": {
    "name": "ipython",
    "version": 3
   },
   "file_extension": ".py",
   "mimetype": "text/x-python",
   "name": "python",
   "nbconvert_exporter": "python",
   "pygments_lexer": "ipython3",
   "version": "3.13.7"
  }
 },
 "nbformat": 4,
 "nbformat_minor": 5
}
