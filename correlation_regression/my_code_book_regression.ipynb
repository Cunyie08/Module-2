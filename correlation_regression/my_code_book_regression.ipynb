{
 "cells": [
  {
   "cell_type": "code",
   "execution_count": 1,
   "id": "66f74d22",
   "metadata": {},
   "outputs": [],
   "source": [
    "import numpy as np\n",
    "import matplotlib.pyplot as plt\n",
    "import pandas as pd\n",
    "import seaborn as sns\n",
    "\n",
    "# Set seed for reproducibility\n",
    "np.random.seed(234)"
   ]
  },
  {
   "cell_type": "code",
   "execution_count": 2,
   "id": "42f687ff",
   "metadata": {},
   "outputs": [],
   "source": [
    "# Create synthetic dataset\n",
    "students = 40\n",
    "study_hours = np.random.randint(1, 10, students) # 1 to 9 hours study\n",
    "job_hours = np.random.randint(0, 15, students)  # 0 to 14 hours job\n",
    "sleep_hours = np.random.randint(4, 9, students) # 4 to 8 hours sleep\n",
    "extracurricular = np.random.randint(0, 6, students) # 0 to 5 hrs activities\n",
    "\n",
    "# Exam score: positively influenced by study & sleep negatively by job and extra curricular activities\n",
    "exam_score = (40\n",
    "              +5*study_hours #strong positive\n",
    "              +2*sleep_hours  # mild positive\n",
    "              -3*job_hours  # strong negative\n",
    "              -1*extracurricular    # mild negative\n",
    "              + np.random.randint(-5,5, students)   #noise            \n",
    "              )\n",
    "\n",
    "data = pd.DataFrame({\n",
    "    'Study Hours': study_hours,\n",
    "    'Job Hours': job_hours,\n",
    "    'Sleep Hours': sleep_hours,\n",
    "    'Extracurricular Hours': extracurricular,\n",
    "    'Exam Score': exam_score\n",
    "})"
   ]
  },
  {
   "cell_type": "code",
   "execution_count": 3,
   "id": "bb00364f",
   "metadata": {},
   "outputs": [
    {
     "data": {
      "text/html": [
       "<div>\n",
       "<style scoped>\n",
       "    .dataframe tbody tr th:only-of-type {\n",
       "        vertical-align: middle;\n",
       "    }\n",
       "\n",
       "    .dataframe tbody tr th {\n",
       "        vertical-align: top;\n",
       "    }\n",
       "\n",
       "    .dataframe thead th {\n",
       "        text-align: right;\n",
       "    }\n",
       "</style>\n",
       "<table border=\"1\" class=\"dataframe\">\n",
       "  <thead>\n",
       "    <tr style=\"text-align: right;\">\n",
       "      <th></th>\n",
       "      <th>Study Hours</th>\n",
       "      <th>Job Hours</th>\n",
       "      <th>Sleep Hours</th>\n",
       "      <th>Extracurricular Hours</th>\n",
       "      <th>Exam Score</th>\n",
       "    </tr>\n",
       "  </thead>\n",
       "  <tbody>\n",
       "    <tr>\n",
       "      <th>0</th>\n",
       "      <td>9</td>\n",
       "      <td>10</td>\n",
       "      <td>4</td>\n",
       "      <td>2</td>\n",
       "      <td>56</td>\n",
       "    </tr>\n",
       "    <tr>\n",
       "      <th>1</th>\n",
       "      <td>5</td>\n",
       "      <td>9</td>\n",
       "      <td>5</td>\n",
       "      <td>1</td>\n",
       "      <td>46</td>\n",
       "    </tr>\n",
       "    <tr>\n",
       "      <th>2</th>\n",
       "      <td>2</td>\n",
       "      <td>0</td>\n",
       "      <td>6</td>\n",
       "      <td>3</td>\n",
       "      <td>57</td>\n",
       "    </tr>\n",
       "    <tr>\n",
       "      <th>3</th>\n",
       "      <td>4</td>\n",
       "      <td>10</td>\n",
       "      <td>6</td>\n",
       "      <td>5</td>\n",
       "      <td>37</td>\n",
       "    </tr>\n",
       "    <tr>\n",
       "      <th>4</th>\n",
       "      <td>8</td>\n",
       "      <td>8</td>\n",
       "      <td>7</td>\n",
       "      <td>1</td>\n",
       "      <td>69</td>\n",
       "    </tr>\n",
       "  </tbody>\n",
       "</table>\n",
       "</div>"
      ],
      "text/plain": [
       "   Study Hours  Job Hours  Sleep Hours  Extracurricular Hours  Exam Score\n",
       "0            9         10            4                      2          56\n",
       "1            5          9            5                      1          46\n",
       "2            2          0            6                      3          57\n",
       "3            4         10            6                      5          37\n",
       "4            8          8            7                      1          69"
      ]
     },
     "execution_count": 3,
     "metadata": {},
     "output_type": "execute_result"
    }
   ],
   "source": [
    "# Print the dataset\n",
    "data.head()"
   ]
  },
  {
   "cell_type": "code",
   "execution_count": 4,
   "id": "a208fd43",
   "metadata": {},
   "outputs": [
    {
     "data": {
      "text/html": [
       "<div>\n",
       "<style scoped>\n",
       "    .dataframe tbody tr th:only-of-type {\n",
       "        vertical-align: middle;\n",
       "    }\n",
       "\n",
       "    .dataframe tbody tr th {\n",
       "        vertical-align: top;\n",
       "    }\n",
       "\n",
       "    .dataframe thead th {\n",
       "        text-align: right;\n",
       "    }\n",
       "</style>\n",
       "<table border=\"1\" class=\"dataframe\">\n",
       "  <thead>\n",
       "    <tr style=\"text-align: right;\">\n",
       "      <th></th>\n",
       "      <th>Study Hours</th>\n",
       "      <th>Job Hours</th>\n",
       "      <th>Sleep Hours</th>\n",
       "      <th>Extracurricular Hours</th>\n",
       "      <th>Exam Score</th>\n",
       "    </tr>\n",
       "  </thead>\n",
       "  <tbody>\n",
       "    <tr>\n",
       "      <th>Study Hours</th>\n",
       "      <td>1.000000</td>\n",
       "      <td>-0.136551</td>\n",
       "      <td>-0.006383</td>\n",
       "      <td>-0.114442</td>\n",
       "      <td>0.694048</td>\n",
       "    </tr>\n",
       "    <tr>\n",
       "      <th>Job Hours</th>\n",
       "      <td>-0.136551</td>\n",
       "      <td>1.000000</td>\n",
       "      <td>0.188992</td>\n",
       "      <td>0.209991</td>\n",
       "      <td>-0.782525</td>\n",
       "    </tr>\n",
       "    <tr>\n",
       "      <th>Sleep Hours</th>\n",
       "      <td>-0.006383</td>\n",
       "      <td>0.188992</td>\n",
       "      <td>1.000000</td>\n",
       "      <td>0.158029</td>\n",
       "      <td>-0.035653</td>\n",
       "    </tr>\n",
       "    <tr>\n",
       "      <th>Extracurricular Hours</th>\n",
       "      <td>-0.114442</td>\n",
       "      <td>0.209991</td>\n",
       "      <td>0.158029</td>\n",
       "      <td>1.000000</td>\n",
       "      <td>-0.276837</td>\n",
       "    </tr>\n",
       "    <tr>\n",
       "      <th>Exam Score</th>\n",
       "      <td>0.694048</td>\n",
       "      <td>-0.782525</td>\n",
       "      <td>-0.035653</td>\n",
       "      <td>-0.276837</td>\n",
       "      <td>1.000000</td>\n",
       "    </tr>\n",
       "  </tbody>\n",
       "</table>\n",
       "</div>"
      ],
      "text/plain": [
       "                       Study Hours  Job Hours  Sleep Hours  \\\n",
       "Study Hours               1.000000  -0.136551    -0.006383   \n",
       "Job Hours                -0.136551   1.000000     0.188992   \n",
       "Sleep Hours              -0.006383   0.188992     1.000000   \n",
       "Extracurricular Hours    -0.114442   0.209991     0.158029   \n",
       "Exam Score                0.694048  -0.782525    -0.035653   \n",
       "\n",
       "                       Extracurricular Hours  Exam Score  \n",
       "Study Hours                        -0.114442    0.694048  \n",
       "Job Hours                           0.209991   -0.782525  \n",
       "Sleep Hours                         0.158029   -0.035653  \n",
       "Extracurricular Hours               1.000000   -0.276837  \n",
       "Exam Score                         -0.276837    1.000000  "
      ]
     },
     "execution_count": 4,
     "metadata": {},
     "output_type": "execute_result"
    }
   ],
   "source": [
    "# Computing the correlation co-eff for each data feature\n",
    "corr_efficients = data.corr()\n",
    "corr_efficients"
   ]
  },
  {
   "cell_type": "code",
   "execution_count": 5,
   "id": "1afb1d22",
   "metadata": {},
   "outputs": [
    {
     "data": {
      "text/plain": [
       "Index(['Study Hours', 'Job Hours', 'Sleep Hours', 'Extracurricular Hours',\n",
       "       'Exam Score'],\n",
       "      dtype='object')"
      ]
     },
     "execution_count": 5,
     "metadata": {},
     "output_type": "execute_result"
    }
   ],
   "source": [
    "data.columns"
   ]
  },
  {
   "cell_type": "code",
   "execution_count": 6,
   "id": "18e285cb",
   "metadata": {},
   "outputs": [
    {
     "data": {
      "image/png": "[encoded data removed]",
      "text/plain": [
       "<Figure size 1200x500 with 2 Axes>"
      ]
     },
     "metadata": {},
     "output_type": "display_data"
    }
   ],
   "source": [
    "# Compute correlation matrix first (this defines 'corr')\n",
    "corr =data[['Study Hours', 'Job Hours', 'Exam Score']].corr()\n",
    "\n",
    "# Plot: Positive and Negative examples\n",
    "plt.figure(figsize=(12,5))\n",
    "\n",
    "# Positive correlation: Study vs Score\n",
    "plt.subplot(1,2,1)\n",
    "sns.scatterplot(x='Study Hours', y='Exam Score', data=data, color='blue')\n",
    "plt.title('Positive Correlation:\\nStudy Hours vs Exam Score', fontsize=14)\n",
    "plt.xlabel('Study Hours')\n",
    "plt.ylabel('Exam Score')\n",
    "plt.text(2, max(data['Exam Score'])-5,\n",
    "         f'r ={corr.loc['Study Hours', 'Exam Score']:.2f}',\n",
    "         fontsize=12, color='darkred',\n",
    "         bbox=dict(facecolor='white', edgecolor='red'))\n",
    "plt.grid(True, linestyle='--', alpha=0.6)\n",
    "\n",
    "\n",
    "# Negative Correlation: Job vs Exams\n",
    "plt.subplot(1,2,2)\n",
    "sns.scatterplot(x='Job Hours', y='Exam Score', data=data, color='green')\n",
    "plt.title('Negative Correlation:\\n Job Hours vs Exam Score', fontsize=14)\n",
    "plt.xlabel('Part-time Job Hours')\n",
    "plt.ylabel('Exam Score')\n",
    "plt.text(5, max(data['Exam Score'])-5,\n",
    "        f'r ={corr.loc['Job Hours', 'Exam Score']:.2f}',\n",
    "        fontsize=12, color='darkred',\n",
    "        bbox=dict(facecolor='white', edgecolor='red'))\n",
    "plt.grid(True, linestyle='--', alpha=0.6)\n",
    "\n",
    "plt.tight_layout\n",
    "plt.show()"
   ]
  },
  {
   "cell_type": "code",
   "execution_count": 7,
   "id": "78a612a6",
   "metadata": {},
   "outputs": [],
   "source": [
    "# predictions = model.predict(X)"
   ]
  },
  {
   "cell_type": "code",
   "execution_count": 8,
   "id": "3ffc2f12",
   "metadata": {},
   "outputs": [
    {
     "data": {
      "text/html": [
       "<div>\n",
       "<style scoped>\n",
       "    .dataframe tbody tr th:only-of-type {\n",
       "        vertical-align: middle;\n",
       "    }\n",
       "\n",
       "    .dataframe tbody tr th {\n",
       "        vertical-align: top;\n",
       "    }\n",
       "\n",
       "    .dataframe thead th {\n",
       "        text-align: right;\n",
       "    }\n",
       "</style>\n",
       "<table border=\"1\" class=\"dataframe\">\n",
       "  <thead>\n",
       "    <tr style=\"text-align: right;\">\n",
       "      <th></th>\n",
       "      <th>Study Hours</th>\n",
       "      <th>Job Hours</th>\n",
       "      <th>Sleep Hours</th>\n",
       "      <th>Extracurricular Hours</th>\n",
       "      <th>Exam Score</th>\n",
       "    </tr>\n",
       "  </thead>\n",
       "  <tbody>\n",
       "    <tr>\n",
       "      <th>0</th>\n",
       "      <td>9</td>\n",
       "      <td>10</td>\n",
       "      <td>4</td>\n",
       "      <td>2</td>\n",
       "      <td>56</td>\n",
       "    </tr>\n",
       "    <tr>\n",
       "      <th>1</th>\n",
       "      <td>5</td>\n",
       "      <td>9</td>\n",
       "      <td>5</td>\n",
       "      <td>1</td>\n",
       "      <td>46</td>\n",
       "    </tr>\n",
       "    <tr>\n",
       "      <th>2</th>\n",
       "      <td>2</td>\n",
       "      <td>0</td>\n",
       "      <td>6</td>\n",
       "      <td>3</td>\n",
       "      <td>57</td>\n",
       "    </tr>\n",
       "    <tr>\n",
       "      <th>3</th>\n",
       "      <td>4</td>\n",
       "      <td>10</td>\n",
       "      <td>6</td>\n",
       "      <td>5</td>\n",
       "      <td>37</td>\n",
       "    </tr>\n",
       "    <tr>\n",
       "      <th>4</th>\n",
       "      <td>8</td>\n",
       "      <td>8</td>\n",
       "      <td>7</td>\n",
       "      <td>1</td>\n",
       "      <td>69</td>\n",
       "    </tr>\n",
       "  </tbody>\n",
       "</table>\n",
       "</div>"
      ],
      "text/plain": [
       "   Study Hours  Job Hours  Sleep Hours  Extracurricular Hours  Exam Score\n",
       "0            9         10            4                      2          56\n",
       "1            5          9            5                      1          46\n",
       "2            2          0            6                      3          57\n",
       "3            4         10            6                      5          37\n",
       "4            8          8            7                      1          69"
      ]
     },
     "execution_count": 8,
     "metadata": {},
     "output_type": "execute_result"
    }
   ],
   "source": [
    "data.head()"
   ]
  },
  {
   "cell_type": "markdown",
   "id": "1b206436",
   "metadata": {},
   "source": [
    "**Simple Linear Regression (SLR)**"
   ]
  },
  {
   "cell_type": "markdown",
   "id": "25f6c806",
   "metadata": {},
   "source": [
    "We want to see how study hours affect exam scores using Simple Linear Regression."
   ]
  },
  {
   "cell_type": "code",
   "execution_count": 9,
   "id": "e91ffad4",
   "metadata": {},
   "outputs": [
    {
     "data": {
      "text/html": [
       "<div>\n",
       "<style scoped>\n",
       "    .dataframe tbody tr th:only-of-type {\n",
       "        vertical-align: middle;\n",
       "    }\n",
       "\n",
       "    .dataframe tbody tr th {\n",
       "        vertical-align: top;\n",
       "    }\n",
       "\n",
       "    .dataframe thead th {\n",
       "        text-align: right;\n",
       "    }\n",
       "</style>\n",
       "<table border=\"1\" class=\"dataframe\">\n",
       "  <thead>\n",
       "    <tr style=\"text-align: right;\">\n",
       "      <th></th>\n",
       "      <th>Study Hours</th>\n",
       "      <th>Job Hours</th>\n",
       "      <th>Sleep Hours</th>\n",
       "      <th>Extracurricular Hours</th>\n",
       "      <th>Exam Score</th>\n",
       "    </tr>\n",
       "  </thead>\n",
       "  <tbody>\n",
       "    <tr>\n",
       "      <th>0</th>\n",
       "      <td>9</td>\n",
       "      <td>10</td>\n",
       "      <td>4</td>\n",
       "      <td>2</td>\n",
       "      <td>56</td>\n",
       "    </tr>\n",
       "    <tr>\n",
       "      <th>1</th>\n",
       "      <td>5</td>\n",
       "      <td>9</td>\n",
       "      <td>5</td>\n",
       "      <td>1</td>\n",
       "      <td>46</td>\n",
       "    </tr>\n",
       "    <tr>\n",
       "      <th>2</th>\n",
       "      <td>2</td>\n",
       "      <td>0</td>\n",
       "      <td>6</td>\n",
       "      <td>3</td>\n",
       "      <td>57</td>\n",
       "    </tr>\n",
       "    <tr>\n",
       "      <th>3</th>\n",
       "      <td>4</td>\n",
       "      <td>10</td>\n",
       "      <td>6</td>\n",
       "      <td>5</td>\n",
       "      <td>37</td>\n",
       "    </tr>\n",
       "    <tr>\n",
       "      <th>4</th>\n",
       "      <td>8</td>\n",
       "      <td>8</td>\n",
       "      <td>7</td>\n",
       "      <td>1</td>\n",
       "      <td>69</td>\n",
       "    </tr>\n",
       "  </tbody>\n",
       "</table>\n",
       "</div>"
      ],
      "text/plain": [
       "   Study Hours  Job Hours  Sleep Hours  Extracurricular Hours  Exam Score\n",
       "0            9         10            4                      2          56\n",
       "1            5          9            5                      1          46\n",
       "2            2          0            6                      3          57\n",
       "3            4         10            6                      5          37\n",
       "4            8          8            7                      1          69"
      ]
     },
     "execution_count": 9,
     "metadata": {},
     "output_type": "execute_result"
    }
   ],
   "source": [
    "data.head()"
   ]
  },
  {
   "cell_type": "code",
   "execution_count": 10,
   "id": "8aa89de8",
   "metadata": {},
   "outputs": [],
   "source": [
    "import statsmodels.api as sm\n",
    "\n",
    "#Define variable for simple regression\n",
    "X = data['Study Hours']\n",
    "Y = data['Exam Score']"
   ]
  },
  {
   "cell_type": "code",
   "execution_count": 11,
   "id": "e6ba4cf3",
   "metadata": {},
   "outputs": [
    {
     "data": {
      "text/html": [
       "<div>\n",
       "<style scoped>\n",
       "    .dataframe tbody tr th:only-of-type {\n",
       "        vertical-align: middle;\n",
       "    }\n",
       "\n",
       "    .dataframe tbody tr th {\n",
       "        vertical-align: top;\n",
       "    }\n",
       "\n",
       "    .dataframe thead th {\n",
       "        text-align: right;\n",
       "    }\n",
       "</style>\n",
       "<table border=\"1\" class=\"dataframe\">\n",
       "  <thead>\n",
       "    <tr style=\"text-align: right;\">\n",
       "      <th></th>\n",
       "      <th>const</th>\n",
       "      <th>Study Hours</th>\n",
       "    </tr>\n",
       "  </thead>\n",
       "  <tbody>\n",
       "    <tr>\n",
       "      <th>0</th>\n",
       "      <td>1.0</td>\n",
       "      <td>9</td>\n",
       "    </tr>\n",
       "    <tr>\n",
       "      <th>1</th>\n",
       "      <td>1.0</td>\n",
       "      <td>5</td>\n",
       "    </tr>\n",
       "    <tr>\n",
       "      <th>2</th>\n",
       "      <td>1.0</td>\n",
       "      <td>2</td>\n",
       "    </tr>\n",
       "    <tr>\n",
       "      <th>3</th>\n",
       "      <td>1.0</td>\n",
       "      <td>4</td>\n",
       "    </tr>\n",
       "    <tr>\n",
       "      <th>4</th>\n",
       "      <td>1.0</td>\n",
       "      <td>8</td>\n",
       "    </tr>\n",
       "  </tbody>\n",
       "</table>\n",
       "</div>"
      ],
      "text/plain": [
       "   const  Study Hours\n",
       "0    1.0            9\n",
       "1    1.0            5\n",
       "2    1.0            2\n",
       "3    1.0            4\n",
       "4    1.0            8"
      ]
     },
     "execution_count": 11,
     "metadata": {},
     "output_type": "execute_result"
    }
   ],
   "source": [
    "# Add intercept (constant term)\n",
    "X = sm.add_constant(X)\n",
    "X.head()"
   ]
  },
  {
   "cell_type": "code",
   "execution_count": 12,
   "id": "c3e90924",
   "metadata": {},
   "outputs": [
    {
     "name": "stdout",
     "output_type": "stream",
     "text": [
      "                            OLS Regression Results                            \n",
      "==============================================================================\n",
      "Dep. Variable:             Exam Score   R-squared:                       0.482\n",
      "Model:                            OLS   Adj. R-squared:                  0.468\n",
      "Method:                 Least Squares   F-statistic:                     35.32\n",
      "Date:                Tue, 07 Oct 2025   Prob (F-statistic):           6.82e-07\n",
      "Time:                        14:00:45   Log-Likelihood:                -161.99\n",
      "No. Observations:                  40   AIC:                             328.0\n",
      "Df Residuals:                      38   BIC:                             331.4\n",
      "Df Model:                           1                                         \n",
      "Covariance Type:            nonrobust                                         \n",
      "===============================================================================\n",
      "                  coef    std err          t      P>|t|      [0.025      0.975]\n",
      "-------------------------------------------------------------------------------\n",
      "const          24.6404      5.476      4.500      0.000      13.556      35.725\n",
      "Study Hours     5.4672      0.920      5.943      0.000       3.605       7.330\n",
      "==============================================================================\n",
      "Omnibus:                        6.602   Durbin-Watson:                   1.738\n",
      "Prob(Omnibus):                  0.037   Jarque-Bera (JB):                2.695\n",
      "Skew:                           0.316   Prob(JB):                        0.260\n",
      "Kurtosis:                       1.896   Cond. No.                         14.8\n",
      "==============================================================================\n",
      "\n",
      "Notes:\n",
      "[1] Standard Errors assume that the covariance matrix of the errors is correctly specified.\n"
     ]
    }
   ],
   "source": [
    "# Fit model using OLS (ordinary Least Squares)\n",
    "model = sm.OLS(Y, X).fit()\n",
    "\n",
    "# Display summary\n",
    "print(model.summary())"
   ]
  },
  {
   "cell_type": "code",
   "execution_count": 13,
   "id": "a5beff7b",
   "metadata": {},
   "outputs": [
    {
     "name": "stderr",
     "output_type": "stream",
     "text": [
      "C:\\Users\\ncc84\\AppData\\Local\\Temp\\ipykernel_16180\\3821536756.py:10: FutureWarning: Series.__getitem__ treating keys as positions is deprecated. In a future version, integer keys will always be treated as labels (consistent with DataFrame behavior). To access a value by position, use `ser.iloc[pos]`\n",
      "  plt.text(2, max(data['Exam Score'])-5, f'Y={model.params[0]:.2f} + {model.params[1]:.2f}X', color='red', fontsize=12)\n"
     ]
    },
    {
     "data": {
      "text/plain": [
       "<function matplotlib.pyplot.show(close=None, block=None)>"
      ]
     },
     "execution_count": 13,
     "metadata": {},
     "output_type": "execute_result"
    },
    {
     "data": {
      "image/png": "[encoded data removed]",
      "text/plain": [
       "<Figure size 800x600 with 1 Axes>"
      ]
     },
     "metadata": {},
     "output_type": "display_data"
    }
   ],
   "source": [
    "# Lets have the regression plot using regression line and scatter plot\n",
    "plt.figure(figsize=(8,6))\n",
    "plt.scatter(data['Study Hours'], data['Exam Score'], color='skyblue', label='Actual Scores')\n",
    "plt.plot(data['Study Hours'], model.predict(X), color='red', label='Regression Line')\n",
    "\n",
    "# Annotate\n",
    "plt.title('Simple Linear Rgression: Study Hours vs Exam Score', fontsize=14, weight='bold')\n",
    "plt.xlabel('Study Hours')\n",
    "plt.ylabel('Exam Score')\n",
    "plt.text(2, max(data['Exam Score'])-5, f'Y={model.params[0]:.2f} + {model.params[1]:.2f}X', color='red', fontsize=12)\n",
    "plt.legend()\n",
    "plt.grid(alpha=0.3)\n",
    "plt.show\n",
    "\n"
   ]
  }
 ],
 "metadata": {
  "kernelspec": {
   "display_name": "my_vle",
   "language": "python",
   "name": "python3"
  },
  "language_info": {
   "codemirror_mode": {
    "name": "ipython",
    "version": 3
   },
   "file_extension": ".py",
   "mimetype": "text/x-python",
   "name": "python",
   "nbconvert_exporter": "python",
   "pygments_lexer": "ipython3",
   "version": "3.13.7"
  }
 },
 "nbformat": 4,
 "nbformat_minor": 5
}
