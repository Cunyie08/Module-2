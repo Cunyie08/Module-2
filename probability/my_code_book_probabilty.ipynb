{
 "cells": [
  {
   "cell_type": "code",
   "execution_count": 16,
   "id": "9341599d",
   "metadata": {},
   "outputs": [],
   "source": [
    "import pandas as pd\n",
    "import numpy as numpy\n",
    "from zipfile import ZipFile\n",
    "from functools import reduce\n",
    "import matplotlib.pyplot as plt\n",
    "from scipy import stats\n",
    "import os"
   ]
  },
  {
   "cell_type": "code",
   "execution_count": null,
   "id": "9d898909",
   "metadata": {},
   "outputs": [],
   "source": [
    "# %pip install kaggle\n",
    "# import kagglehub\n",
    "\n",
    "# # Download latest version\n",
    "# path = kagglehub.dataset_download(\"olistbr/brazilian-ecommerce\")\n",
    "\n",
    "# print(\"Path to dataset files:\", path)"
   ]
  },
  {
   "cell_type": "code",
   "execution_count": 19,
   "id": "e714e0b6",
   "metadata": {},
   "outputs": [],
   "source": [
    "path = r\"C:\\Users\\ncc84\\Downloads\\archive.zip\"\n",
    "\n",
    "extracted_file = \"data_files\""
   ]
  },
  {
   "cell_type": "code",
   "execution_count": null,
   "id": "8886e5f1",
   "metadata": {},
   "outputs": [],
   "source": [
    "# Extract the data from the archive \n",
    "with ZipFile(path, \"r\") as f:\n",
    "    f.extractall(\"data_files\")"
   ]
  },
  {
   "cell_type": "code",
   "execution_count": null,
   "id": "17d5e0dd",
   "metadata": {},
   "outputs": [],
   "source": [
    "# extracting multiple csv file from the zipped file\n",
    "data_frames = {}\n",
    "\n",
    "for file in os.listdir(extracted_file):\n",
    "    if file.endswith('csv'):\n",
    "        file_path = os.path.join(extracted_file, file)\n",
    "        data_frames[file] = pd.read_csv(file_path)"
   ]
  },
  {
   "cell_type": "code",
   "execution_count": null,
   "id": "e6409bbd",
   "metadata": {},
   "outputs": [
    {
     "name": "stdout",
     "output_type": "stream",
     "text": [
      "olist_customers_dataset.csv\n",
      "olist_geolocation_dataset.csv\n",
      "olist_orders_dataset.csv\n",
      "olist_order_items_dataset.csv\n",
      "olist_order_payments_dataset.csv\n",
      "olist_order_reviews_dataset.csv\n",
      "olist_products_dataset.csv\n",
      "olist_sellers_dataset.csv\n",
      "product_category_name_translation.csv\n"
     ]
    }
   ],
   "source": [
    "# Printing name of all the csv files\n",
    "for name, df in data_frames.items():\n",
    "    print(f\"{name}\")"
   ]
  },
  {
   "cell_type": "code",
   "execution_count": 26,
   "id": "c7d0d5a7",
   "metadata": {},
   "outputs": [
    {
     "name": "stdout",
     "output_type": "stream",
     "text": [
      "(99441, 5)\n",
      "Index(['customer_id', 'customer_unique_id', 'customer_zip_code_prefix',\n",
      "       'customer_city', 'customer_state'],\n",
      "      dtype='object')\n"
     ]
    }
   ],
   "source": [
    "# Reading the customer file\n",
    "customers = pd.read_csv(r\"data_files/olist_customers_dataset.csv\")\n",
    "customers.head()\n",
    "print(customers.shape)\n",
    "print(customers.columns)"
   ]
  },
  {
   "cell_type": "code",
   "execution_count": 27,
   "id": "e5a2942b",
   "metadata": {},
   "outputs": [
    {
     "name": "stdout",
     "output_type": "stream",
     "text": [
      "(1000163, 5)\n",
      "Index(['geolocation_zip_code_prefix', 'geolocation_lat', 'geolocation_lng',\n",
      "       'geolocation_city', 'geolocation_state'],\n",
      "      dtype='object')\n"
     ]
    }
   ],
   "source": [
    "# Reading the geolocation_dataset file\n",
    "geolocation_dataset = pd.read_csv(r\"data_files/olist_geolocation_dataset.csv\")\n",
    "geolocation_dataset.head()\n",
    "print(geolocation_dataset.shape)\n",
    "print(geolocation_dataset.columns)"
   ]
  },
  {
   "cell_type": "code",
   "execution_count": null,
   "id": "141e5f0d",
   "metadata": {},
   "outputs": [],
   "source": [
    "# Reading the orders_datset file\n",
    "order_dataset = pd.read_csv(r\"data_files/olist_orders_dataset.csv\")"
   ]
  }
 ],
 "metadata": {
  "kernelspec": {
   "display_name": "my_vle",
   "language": "python",
   "name": "python3"
  },
  "language_info": {
   "codemirror_mode": {
    "name": "ipython",
    "version": 3
   },
   "file_extension": ".py",
   "mimetype": "text/x-python",
   "name": "python",
   "nbconvert_exporter": "python",
   "pygments_lexer": "ipython3",
   "version": "3.13.7"
  }
 },
 "nbformat": 4,
 "nbformat_minor": 5
}
