{
 "cells": [
  {
   "cell_type": "markdown",
   "id": "1dd1aaff",
   "metadata": {},
   "source": [
    "### **Statistics**"
   ]
  },
  {
   "cell_type": "markdown",
   "id": "12f58a97",
   "metadata": {},
   "source": [
    "- Statistics is the science of **collecting**, **organizing**, **analyzing**, **interpreting**, and **presenting data** to make **informed decisions**. \n",
    "\n",
    "- Lets think of it as a toolkit that helps us make sense of numbers and discover patterns in the world around us."
   ]
  },
  {
   "cell_type": "markdown",
   "id": "4a63c97e",
   "metadata": {},
   "source": [
    "**There are two main branches**\n",
    "\n",
    "1. **Descriptive Statistics**\n",
    "\n",
    "- Deals with summarizing, organizing, and presenting data we already have.\n",
    "\n",
    "- Uses measures like mean (average), median, mode, range, variance, and standard deviation to describe a dataset.\n",
    "\n",
    "- Also involves graphs, charts, and tables for easy visualization.\n",
    "\n",
    "- For example calculating the average coding hours of AI engineering students.\n",
    "\n",
    "2. **Inferential Statistics**\n",
    "\n",
    "- Uses data from a sample to make conclusions or predictions about a larger population.\n",
    "\n",
    "- Involves methods like correlation, regression, hypothesis testing, chi-square tests, t-tests, and ANOVA.\n",
    "\n",
    "- Helps in data-driven decision making by testing ideas and estimating outcomes with a level of certainty.\n",
    "\n",
    "- Foundation of predictive analysis, guiding policymakers and organizations in making strategic decisions.\n",
    "\n",
    "- For example, uing a survey of 1,000 people to predict how millions will vote in a presidential election."
   ]
  },
  {
   "cell_type": "markdown",
   "id": "6a5c1d8c",
   "metadata": {},
   "source": [
    "**Why Statistics**\n",
    "- Beyond the confusing formulas and outrageous numbers, statistics will help us answer questions like;\n",
    "\n",
    "   - What's typical? (measures of center)\n",
    "   - How much variation is there?(measures of spread)\n",
    "   - Is this pattern real or just coincidence? (hypothesis testing)\n",
    "   - Can we predict future outcomes?(regression)"
   ]
  },
  {
   "cell_type": "markdown",
   "id": "a5fab327",
   "metadata": {},
   "source": [
    "**Lets try to understand these concepts with codes**"
   ]
  },
  {
   "cell_type": "code",
   "execution_count": 2,
   "id": "3f15e502",
   "metadata": {},
   "outputs": [],
   "source": [
    "import pandas as pd\n",
    "import numpy as np\n",
    "import matplotlib.pyplot as plt\n",
    "import scipy.stats as stats"
   ]
  },
  {
   "cell_type": "code",
   "execution_count": 3,
   "id": "d970cc99",
   "metadata": {},
   "outputs": [],
   "source": [
    "# Let's set random seed for reproducibility\n",
    "np.random.seed(42)"
   ]
  },
  {
   "cell_type": "code",
   "execution_count": null,
   "id": "5dbc7a1e",
   "metadata": {},
   "outputs": [],
   "source": []
  }
 ],
 "metadata": {
  "kernelspec": {
   "display_name": "my_vle",
   "language": "python",
   "name": "python3"
  },
  "language_info": {
   "codemirror_mode": {
    "name": "ipython",
    "version": 3
   },
   "file_extension": ".py",
   "mimetype": "text/x-python",
   "name": "python",
   "nbconvert_exporter": "python",
   "pygments_lexer": "ipython3",
   "version": "3.13.7"
  }
 },
 "nbformat": 4,
 "nbformat_minor": 5
}
