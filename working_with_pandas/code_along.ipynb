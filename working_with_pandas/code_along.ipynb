{
 "cells": [
  {
   "cell_type": "markdown",
   "id": "79be26b6",
   "metadata": {},
   "source": [
    "### A. Creating Series and DataFrames"
   ]
  },
  {
   "cell_type": "code",
   "execution_count": 3,
   "id": "e3fba111",
   "metadata": {},
   "outputs": [
    {
     "data": {
      "text/plain": [
       "0     1\n",
       "1     2\n",
       "2     3\n",
       "3     4\n",
       "4     5\n",
       "5     6\n",
       "6     7\n",
       "7     8\n",
       "8     9\n",
       "9    10\n",
       "dtype: int64"
      ]
     },
     "execution_count": 3,
     "metadata": {},
     "output_type": "execute_result"
    }
   ],
   "source": [
    "import pandas as pd\n",
    "\n",
    "#Step 1: Import pandas package\n",
    "\n",
    "import pandas as pd\n",
    "\n",
    "#Step2: Define a list\n",
    "data = [1,2,3,4,5,6,7,8,9,10]\n",
    "\n",
    "\n",
    "#Step3: Create the series\n",
    "series = pd.Series(data)\n",
    "\n",
    "# lets view the series that we have created\n",
    "series.head(10)\n"
   ]
  },
  {
   "cell_type": "code",
   "execution_count": 4,
   "id": "31c6a10e",
   "metadata": {},
   "outputs": [
    {
     "data": {
      "text/plain": [
       "pandas.core.series.Series"
      ]
     },
     "execution_count": 4,
     "metadata": {},
     "output_type": "execute_result"
    }
   ],
   "source": [
    "# lets confirm to be sure we had created a pandas series\n",
    "type(series)"
   ]
  },
  {
   "cell_type": "code",
   "execution_count": 5,
   "id": "e5cfcc26",
   "metadata": {},
   "outputs": [
    {
     "data": {
      "text/plain": [
       "a     1\n",
       "b     2\n",
       "c     3\n",
       "d     4\n",
       "e     5\n",
       "f     6\n",
       "g     7\n",
       "h     8\n",
       "i     9\n",
       "j    10\n",
       "dtype: int64"
      ]
     },
     "execution_count": 5,
     "metadata": {},
     "output_type": "execute_result"
    }
   ],
   "source": [
    "# Lets create a series using the same list, but now we will be adding our own serial numbering, in python or pandas it is called index\n",
    "series2 = pd.Series(data, index = [\"a\",\"b\",\"c\",\"d\",\"e\",\"f\",\"g\",\"h\",\"i\",\"j\"])\n",
    "series2.head(10)"
   ]
  },
  {
   "cell_type": "code",
   "execution_count": 6,
   "id": "f1c737b2",
   "metadata": {},
   "outputs": [
    {
     "data": {
      "text/plain": [
       "a    10\n",
       "b    20\n",
       "c    30\n",
       "dtype: int64"
      ]
     },
     "execution_count": 6,
     "metadata": {},
     "output_type": "execute_result"
    }
   ],
   "source": [
    "# Lets create a series using python dictionary\n",
    "\n",
    "\n",
    "#lets create a python dictionary\n",
    "data2 = {'a': 10, 'b': 20, 'c': 30}\n",
    "\n",
    "# lets create the series\n",
    "series3 = pd.Series(data2)\n",
    "series3.head()"
   ]
  },
  {
   "cell_type": "markdown",
   "id": "1b71fb9f",
   "metadata": {},
   "source": [
    "**Hands on Practice Solution**\n",
    "1. Create a bucket list of 6 items. Convert the list to pandas series and define index for it using alphabets.\n",
    "2. Create a simple python dictionary of your biodata with 5 keys and their corresponding values. Convert the dictionary into a pandas series.\n",
    "\n",
    "_depending on where you are viewing this notebook you are either to download it or make a copy._"
   ]
  },
  {
   "cell_type": "markdown",
   "id": "82d458a3",
   "metadata": {},
   "source": [
    "**Question 1**"
   ]
  },
  {
   "cell_type": "code",
   "execution_count": null,
   "id": "6ce21ff1",
   "metadata": {},
   "outputs": [
    {
     "data": {
      "text/plain": [
       "a           Hike\n",
       "b    Bunjee jump\n",
       "c       Sky dive\n",
       "d       Mud bath\n",
       "e          Italy\n",
       "f         Turkey\n",
       "dtype: object"
      ]
     },
     "execution_count": 9,
     "metadata": {},
     "output_type": "execute_result"
    }
   ],
   "source": [
    "# 1. Creating a bucket list\n",
    "bucket_list = ['Hike', 'Bunjee jump', 'Sky dive', 'Mud bath', 'Italy', 'Turkey']\n",
    "\n",
    "# Creating a series using the list above and indexing with alphabets \n",
    "series = pd.Series(bucket_list, index = ['a', 'b', 'c', 'd', 'e', 'f'])\n",
    "series.head(6)\n",
    "\n"
   ]
  },
  {
   "cell_type": "markdown",
   "id": "8cb1298a",
   "metadata": {},
   "source": [
    "**Question 2**"
   ]
  },
  {
   "cell_type": "code",
   "execution_count": null,
   "id": "efe25be5",
   "metadata": {},
   "outputs": [
    {
     "data": {
      "text/plain": [
       "Name        Kanyisola Fagbayi\n",
       "Age                        19\n",
       "Track             AI engineer\n",
       "Location                  ABK\n",
       "Course                 Python\n",
       "dtype: object"
      ]
     },
     "execution_count": 11,
     "metadata": {},
     "output_type": "execute_result"
    }
   ],
   "source": [
    "# Create a simple python biodata dict with 5 keys - Values\n",
    "biodata = {\"Name\": \"Kanyisola Fagbayi\", \"Age\": 19, \"Track\": \"AI engineer\", \"Location\": \"ABK\", \"Course\": \"Python\"}\n",
    "\n",
    "# Converting the dictionary into pandas series\n",
    "biodata_series = pd.Series(biodata)\n",
    "biodata_series.head()"
   ]
  },
  {
   "cell_type": "markdown",
   "id": "d73f6bc2",
   "metadata": {},
   "source": [
    "**Creating a DataFrame**"
   ]
  },
  {
   "cell_type": "code",
   "execution_count": null,
   "id": "f20b100c",
   "metadata": {},
   "outputs": [
    {
     "data": {
      "text/html": [
       "<div>\n",
       "<style scoped>\n",
       "    .dataframe tbody tr th:only-of-type {\n",
       "        vertical-align: middle;\n",
       "    }\n",
       "\n",
       "    .dataframe tbody tr th {\n",
       "        vertical-align: top;\n",
       "    }\n",
       "\n",
       "    .dataframe thead th {\n",
       "        text-align: right;\n",
       "    }\n",
       "</style>\n",
       "<table border=\"1\" class=\"dataframe\">\n",
       "  <thead>\n",
       "    <tr style=\"text-align: right;\">\n",
       "      <th></th>\n",
       "      <th>Name</th>\n",
       "      <th>Age</th>\n",
       "      <th>Track</th>\n",
       "    </tr>\n",
       "  </thead>\n",
       "  <tbody>\n",
       "    <tr>\n",
       "      <th>0</th>\n",
       "      <td>Ade</td>\n",
       "      <td>21</td>\n",
       "      <td>Python</td>\n",
       "    </tr>\n",
       "    <tr>\n",
       "      <th>1</th>\n",
       "      <td>Chris</td>\n",
       "      <td>24</td>\n",
       "      <td>Data Analyst</td>\n",
       "    </tr>\n",
       "    <tr>\n",
       "      <th>2</th>\n",
       "      <td>Ayo</td>\n",
       "      <td>26</td>\n",
       "      <td>IT</td>\n",
       "    </tr>\n",
       "  </tbody>\n",
       "</table>\n",
       "</div>"
      ],
      "text/plain": [
       "    Name  Age         Track\n",
       "0    Ade   21        Python\n",
       "1  Chris   24  Data Analyst\n",
       "2    Ayo   26            IT"
      ]
     },
     "execution_count": 12,
     "metadata": {},
     "output_type": "execute_result"
    }
   ],
   "source": [
    "# LEts create a dataframe\n",
    "# Step1: import pandas\n",
    "import pandas as pd\n",
    "\n",
    "# Define the data using dictionary that is having its values as a list\n",
    "\n",
    "data = {\n",
    "    'Name' : ['Ade', 'Chris', 'Ayo'],\n",
    "    'Age': [21, 24, 26],\n",
    "    'Track': ['Python', 'Data Analyst', 'IT']\n",
    "}\n",
    "\n",
    "# Lets create the dataframe using \"df\" as short for dataframe\n",
    "df = pd.DataFrame(data)\n",
    "df.head()"
   ]
  },
  {
   "cell_type": "code",
   "execution_count": 15,
   "id": "d792c959",
   "metadata": {},
   "outputs": [
    {
     "data": {
      "text/html": [
       "<div>\n",
       "<style scoped>\n",
       "    .dataframe tbody tr th:only-of-type {\n",
       "        vertical-align: middle;\n",
       "    }\n",
       "\n",
       "    .dataframe tbody tr th {\n",
       "        vertical-align: top;\n",
       "    }\n",
       "\n",
       "    .dataframe thead th {\n",
       "        text-align: right;\n",
       "    }\n",
       "</style>\n",
       "<table border=\"1\" class=\"dataframe\">\n",
       "  <thead>\n",
       "    <tr style=\"text-align: right;\">\n",
       "      <th></th>\n",
       "      <th>Name</th>\n",
       "      <th>Age</th>\n",
       "      <th>Track</th>\n",
       "    </tr>\n",
       "  </thead>\n",
       "  <tbody>\n",
       "    <tr>\n",
       "      <th>1</th>\n",
       "      <td>Ade</td>\n",
       "      <td>21</td>\n",
       "      <td>Python</td>\n",
       "    </tr>\n",
       "    <tr>\n",
       "      <th>2</th>\n",
       "      <td>Chris</td>\n",
       "      <td>24</td>\n",
       "      <td>Data Analyst</td>\n",
       "    </tr>\n",
       "    <tr>\n",
       "      <th>3</th>\n",
       "      <td>Ayo</td>\n",
       "      <td>26</td>\n",
       "      <td>IT</td>\n",
       "    </tr>\n",
       "  </tbody>\n",
       "</table>\n",
       "</div>"
      ],
      "text/plain": [
       "    Name  Age         Track\n",
       "1    Ade   21        Python\n",
       "2  Chris   24  Data Analyst\n",
       "3    Ayo   26            IT"
      ]
     },
     "execution_count": 15,
     "metadata": {},
     "output_type": "execute_result"
    }
   ],
   "source": [
    "# Define the data using dictionary that is having its values as a list\n",
    "\n",
    "data2 = [\n",
    "    {'Name' : 'Ade', 'Age': 21, 'Track': 'Python'},\n",
    "    {'Name' : 'Chris', 'Age': 24, 'Track': 'Data Analyst'},\n",
    "    {'Name' : 'Ayo', 'Age': 26, 'Track': 'IT'}\n",
    "]\n",
    "\n",
    "# Lets create the dataframe using \"df\" as short for dataframe\n",
    "df2 = pd.DataFrame(data2, index=[1, 2, 3])\n",
    "df2.head()"
   ]
  },
  {
   "cell_type": "code",
   "execution_count": 17,
   "id": "965a152a",
   "metadata": {},
   "outputs": [
    {
     "data": {
      "text/html": [
       "<div>\n",
       "<style scoped>\n",
       "    .dataframe tbody tr th:only-of-type {\n",
       "        vertical-align: middle;\n",
       "    }\n",
       "\n",
       "    .dataframe tbody tr th {\n",
       "        vertical-align: top;\n",
       "    }\n",
       "\n",
       "    .dataframe thead th {\n",
       "        text-align: right;\n",
       "    }\n",
       "</style>\n",
       "<table border=\"1\" class=\"dataframe\">\n",
       "  <thead>\n",
       "    <tr style=\"text-align: right;\">\n",
       "      <th></th>\n",
       "      <th>Name</th>\n",
       "      <th>Age</th>\n",
       "      <th>Home_Town</th>\n",
       "    </tr>\n",
       "  </thead>\n",
       "  <tbody>\n",
       "    <tr>\n",
       "      <th>1</th>\n",
       "      <td>Chris</td>\n",
       "      <td>26</td>\n",
       "      <td>Benin</td>\n",
       "    </tr>\n",
       "    <tr>\n",
       "      <th>2</th>\n",
       "      <td>Ayo</td>\n",
       "      <td>24</td>\n",
       "      <td>Ibadan</td>\n",
       "    </tr>\n",
       "    <tr>\n",
       "      <th>3</th>\n",
       "      <td>Chisom</td>\n",
       "      <td>22</td>\n",
       "      <td>Enugu</td>\n",
       "    </tr>\n",
       "  </tbody>\n",
       "</table>\n",
       "</div>"
      ],
      "text/plain": [
       "     Name  Age Home_Town\n",
       "1   Chris   26     Benin\n",
       "2     Ayo   24    Ibadan\n",
       "3  Chisom   22     Enugu"
      ]
     },
     "execution_count": 17,
     "metadata": {},
     "output_type": "execute_result"
    }
   ],
   "source": [
    "# Lets do the sanething again using list of list\n",
    "\n",
    "data3 = [\n",
    "    ['Chris', 26, 'Benin'],\n",
    "    ['Ayo', 24, 'Ibadan'],\n",
    "    ['Chisom', 22, 'Enugu']\n",
    "]\n",
    "df3 = pd.DataFrame(data3, columns=['Name', 'Age', 'Home_Town'], index=[1, 2, 3])\n",
    "df3.head()"
   ]
  },
  {
   "cell_type": "code",
   "execution_count": 18,
   "id": "b2fbaa90",
   "metadata": {},
   "outputs": [
    {
     "name": "stdout",
     "output_type": "stream",
     "text": [
      "<class 'pandas.core.frame.DataFrame'>\n",
      "<class 'pandas.core.frame.DataFrame'>\n",
      "<class 'pandas.core.frame.DataFrame'>\n"
     ]
    }
   ],
   "source": [
    "# lets print the types to be sure we have defined dataframes\n",
    "print(type(df))\n",
    "print(type(df2))\n",
    "print(type(df3))"
   ]
  },
  {
   "cell_type": "markdown",
   "id": "2af3088b",
   "metadata": {},
   "source": [
    "**Data Input and Output**"
   ]
  },
  {
   "cell_type": "code",
   "execution_count": null,
   "id": "d2bd5920",
   "metadata": {},
   "outputs": [],
   "source": [
    "import pandas as pd\n",
    "\n",
    "# To read in datasets we use\n",
    "df = pd.read_csv('bio_data.csv')\n",
    "df"
   ]
  },
  {
   "cell_type": "markdown",
   "id": "bb5078d6",
   "metadata": {},
   "source": [
    "**Data Inspection and Exploration**"
   ]
  },
  {
   "cell_type": "code",
   "execution_count": 35,
   "id": "733f94ed",
   "metadata": {},
   "outputs": [
    {
     "name": "stdout",
     "output_type": "stream",
     "text": [
      "<class 'pandas.core.frame.DataFrame'>\n",
      "RangeIndex: 34 entries, 0 to 33\n",
      "Data columns (total 10 columns):\n",
      " #   Column        Non-Null Count  Dtype \n",
      "---  ------        --------------  ----- \n",
      " 0   Timestamp     34 non-null     object\n",
      " 1   First Name    34 non-null     object\n",
      " 2   Last Name     34 non-null     object\n",
      " 3   Course Track  34 non-null     object\n",
      " 4   City          34 non-null     object\n",
      " 5   Gender        34 non-null     object\n",
      " 6   Seat Number   34 non-null     object\n",
      " 7   PC-Make       34 non-null     object\n",
      " 8   PC - OS       34 non-null     object\n",
      " 9   Feedback      34 non-null     object\n",
      "dtypes: object(10)\n",
      "memory usage: 2.8+ KB\n"
     ]
    },
    {
     "data": {
      "text/html": [
       "<div>\n",
       "<style scoped>\n",
       "    .dataframe tbody tr th:only-of-type {\n",
       "        vertical-align: middle;\n",
       "    }\n",
       "\n",
       "    .dataframe tbody tr th {\n",
       "        vertical-align: top;\n",
       "    }\n",
       "\n",
       "    .dataframe thead th {\n",
       "        text-align: right;\n",
       "    }\n",
       "</style>\n",
       "<table border=\"1\" class=\"dataframe\">\n",
       "  <thead>\n",
       "    <tr style=\"text-align: right;\">\n",
       "      <th></th>\n",
       "      <th>Timestamp</th>\n",
       "      <th>First Name</th>\n",
       "      <th>Last Name</th>\n",
       "      <th>Course Track</th>\n",
       "      <th>City</th>\n",
       "      <th>Gender</th>\n",
       "      <th>Seat Number</th>\n",
       "      <th>PC-Make</th>\n",
       "      <th>PC - OS</th>\n",
       "      <th>Feedback</th>\n",
       "    </tr>\n",
       "  </thead>\n",
       "  <tbody>\n",
       "    <tr>\n",
       "      <th>count</th>\n",
       "      <td>34</td>\n",
       "      <td>34</td>\n",
       "      <td>34</td>\n",
       "      <td>34</td>\n",
       "      <td>34</td>\n",
       "      <td>34</td>\n",
       "      <td>34</td>\n",
       "      <td>34</td>\n",
       "      <td>34</td>\n",
       "      <td>34</td>\n",
       "    </tr>\n",
       "    <tr>\n",
       "      <th>unique</th>\n",
       "      <td>33</td>\n",
       "      <td>33</td>\n",
       "      <td>34</td>\n",
       "      <td>7</td>\n",
       "      <td>11</td>\n",
       "      <td>2</td>\n",
       "      <td>31</td>\n",
       "      <td>10</td>\n",
       "      <td>3</td>\n",
       "      <td>32</td>\n",
       "    </tr>\n",
       "    <tr>\n",
       "      <th>top</th>\n",
       "      <td>2025/09/11 12:58:55 PM GMT+1</td>\n",
       "      <td>Samuel</td>\n",
       "      <td>Okonmah</td>\n",
       "      <td>AI</td>\n",
       "      <td>Abeokuta</td>\n",
       "      <td>Male</td>\n",
       "      <td>2</td>\n",
       "      <td>HP</td>\n",
       "      <td>Windows</td>\n",
       "      <td>None for now</td>\n",
       "    </tr>\n",
       "    <tr>\n",
       "      <th>freq</th>\n",
       "      <td>2</td>\n",
       "      <td>2</td>\n",
       "      <td>1</td>\n",
       "      <td>24</td>\n",
       "      <td>22</td>\n",
       "      <td>26</td>\n",
       "      <td>2</td>\n",
       "      <td>19</td>\n",
       "      <td>27</td>\n",
       "      <td>3</td>\n",
       "    </tr>\n",
       "  </tbody>\n",
       "</table>\n",
       "</div>"
      ],
      "text/plain": [
       "                           Timestamp First Name Last Name Course Track  \\\n",
       "count                             34         34        34           34   \n",
       "unique                            33         33        34            7   \n",
       "top     2025/09/11 12:58:55 PM GMT+1     Samuel   Okonmah           AI   \n",
       "freq                               2          2         1           24   \n",
       "\n",
       "            City Gender Seat Number PC-Make  PC - OS      Feedback  \n",
       "count         34     34          34      34       34            34  \n",
       "unique        11      2          31      10        3            32  \n",
       "top     Abeokuta   Male           2      HP  Windows  None for now  \n",
       "freq          22     26           2      19       27             3  "
      ]
     },
     "execution_count": 35,
     "metadata": {},
     "output_type": "execute_result"
    }
   ],
   "source": [
    "# To call all the data in a dataset\n",
    "df\n",
    "\n",
    "# To view the first 5 rows\n",
    "df.head()\n",
    "\n",
    "# To view the last five rows\n",
    "df.tail()\n",
    "\n",
    "# To check the info about the data\n",
    "df.info()\n",
    "\n",
    "# To check the statistical summary\n",
    "df.describe()\n",
    "\n",
    "# # To Check the dimension of the dataset\n",
    "# df.shape\n",
    "\n",
    "# # For checking column names\n",
    "# df.columns \n",
    "\n"
   ]
  }
 ],
 "metadata": {
  "kernelspec": {
   "display_name": "my_venv",
   "language": "python",
   "name": "python3"
  },
  "language_info": {
   "codemirror_mode": {
    "name": "ipython",
    "version": 3
   },
   "file_extension": ".py",
   "mimetype": "text/x-python",
   "name": "python",
   "nbconvert_exporter": "python",
   "pygments_lexer": "ipython3",
   "version": "3.13.7"
  }
 },
 "nbformat": 4,
 "nbformat_minor": 5
}
