{
 "cells": [
  {
   "cell_type": "markdown",
   "id": "79be26b6",
   "metadata": {},
   "source": [
    "### A. Creating Series and DataFrames"
   ]
  },
  {
   "cell_type": "code",
   "execution_count": 158,
   "id": "e3fba111",
   "metadata": {},
   "outputs": [
    {
     "data": {
      "text/plain": [
       "0     1\n",
       "1     2\n",
       "2     3\n",
       "3     4\n",
       "4     5\n",
       "5     6\n",
       "6     7\n",
       "7     8\n",
       "8     9\n",
       "9    10\n",
       "dtype: int64"
      ]
     },
     "execution_count": 158,
     "metadata": {},
     "output_type": "execute_result"
    }
   ],
   "source": [
    "import pandas as pd\n",
    "\n",
    "#Step 1: Import pandas package\n",
    "\n",
    "import pandas as pd\n",
    "\n",
    "#Step2: Define a list\n",
    "data = [1,2,3,4,5,6,7,8,9,10]\n",
    "\n",
    "\n",
    "#Step3: Create the series\n",
    "series = pd.Series(data)\n",
    "\n",
    "# lets view the series that we have created\n",
    "series.head(10)\n"
   ]
  },
  {
   "cell_type": "code",
   "execution_count": 159,
   "id": "31c6a10e",
   "metadata": {},
   "outputs": [
    {
     "data": {
      "text/plain": [
       "pandas.core.series.Series"
      ]
     },
     "execution_count": 159,
     "metadata": {},
     "output_type": "execute_result"
    }
   ],
   "source": [
    "# lets confirm to be sure we had created a pandas series\n",
    "type(series)"
   ]
  },
  {
   "cell_type": "code",
   "execution_count": 160,
   "id": "e5cfcc26",
   "metadata": {},
   "outputs": [
    {
     "data": {
      "text/plain": [
       "a     1\n",
       "b     2\n",
       "c     3\n",
       "d     4\n",
       "e     5\n",
       "f     6\n",
       "g     7\n",
       "h     8\n",
       "i     9\n",
       "j    10\n",
       "dtype: int64"
      ]
     },
     "execution_count": 160,
     "metadata": {},
     "output_type": "execute_result"
    }
   ],
   "source": [
    "# Lets create a series using the same list, but now we will be adding our own serial numbering, in python or pandas it is called index\n",
    "series2 = pd.Series(data, index = [\"a\",\"b\",\"c\",\"d\",\"e\",\"f\",\"g\",\"h\",\"i\",\"j\"])\n",
    "series2.head(10)"
   ]
  },
  {
   "cell_type": "code",
   "execution_count": 161,
   "id": "f1c737b2",
   "metadata": {},
   "outputs": [
    {
     "data": {
      "text/plain": [
       "a    10\n",
       "b    20\n",
       "c    30\n",
       "dtype: int64"
      ]
     },
     "execution_count": 161,
     "metadata": {},
     "output_type": "execute_result"
    }
   ],
   "source": [
    "# Lets create a series using python dictionary\n",
    "\n",
    "\n",
    "#lets create a python dictionary\n",
    "data2 = {'a': 10, 'b': 20, 'c': 30}\n",
    "\n",
    "# lets create the series\n",
    "series3 = pd.Series(data2)\n",
    "series3.head()"
   ]
  },
  {
   "cell_type": "markdown",
   "id": "1b71fb9f",
   "metadata": {},
   "source": [
    "**Hands on Practice Solution**\n",
    "1. Create a bucket list of 6 items. Convert the list to pandas series and define index for it using alphabets.\n",
    "2. Create a simple python dictionary of your biodata with 5 keys and their corresponding values. Convert the dictionary into a pandas series.\n",
    "\n",
    "_depending on where you are viewing this notebook you are either to download it or make a copy._"
   ]
  },
  {
   "cell_type": "markdown",
   "id": "82d458a3",
   "metadata": {},
   "source": [
    "**Question 1**"
   ]
  },
  {
   "cell_type": "code",
   "execution_count": 162,
   "id": "6ce21ff1",
   "metadata": {},
   "outputs": [
    {
     "data": {
      "text/plain": [
       "a           Hike\n",
       "b    Bunjee jump\n",
       "c       Sky dive\n",
       "d       Mud bath\n",
       "e          Italy\n",
       "f         Turkey\n",
       "dtype: object"
      ]
     },
     "execution_count": 162,
     "metadata": {},
     "output_type": "execute_result"
    }
   ],
   "source": [
    "# 1. Creating a bucket list\n",
    "bucket_list = ['Hike', 'Bunjee jump', 'Sky dive', 'Mud bath', 'Italy', 'Turkey']\n",
    "\n",
    "# Creating a series using the list above and indexing with alphabets \n",
    "series = pd.Series(bucket_list, index = ['a', 'b', 'c', 'd', 'e', 'f'])\n",
    "series.head(6)\n",
    "\n"
   ]
  },
  {
   "cell_type": "markdown",
   "id": "8cb1298a",
   "metadata": {},
   "source": [
    "**Question 2**"
   ]
  },
  {
   "cell_type": "code",
   "execution_count": 163,
   "id": "efe25be5",
   "metadata": {},
   "outputs": [
    {
     "data": {
      "text/plain": [
       "Name        Kanyisola Fagbayi\n",
       "Age                        19\n",
       "Track             AI engineer\n",
       "Location                  ABK\n",
       "Course                 Python\n",
       "dtype: object"
      ]
     },
     "execution_count": 163,
     "metadata": {},
     "output_type": "execute_result"
    }
   ],
   "source": [
    "# Create a simple python biodata dict with 5 keys - Values\n",
    "biodata = {\"Name\": \"Kanyisola Fagbayi\", \"Age\": 19, \"Track\": \"AI engineer\", \"Location\": \"ABK\", \"Course\": \"Python\"}\n",
    "\n",
    "# Converting the dictionary into pandas series\n",
    "biodata_series = pd.Series(biodata)\n",
    "biodata_series.head()"
   ]
  },
  {
   "cell_type": "markdown",
   "id": "d73f6bc2",
   "metadata": {},
   "source": [
    "**Creating a DataFrame**"
   ]
  },
  {
   "cell_type": "code",
   "execution_count": 164,
   "id": "f20b100c",
   "metadata": {},
   "outputs": [
    {
     "data": {
      "text/html": [
       "<div>\n",
       "<style scoped>\n",
       "    .dataframe tbody tr th:only-of-type {\n",
       "        vertical-align: middle;\n",
       "    }\n",
       "\n",
       "    .dataframe tbody tr th {\n",
       "        vertical-align: top;\n",
       "    }\n",
       "\n",
       "    .dataframe thead th {\n",
       "        text-align: right;\n",
       "    }\n",
       "</style>\n",
       "<table border=\"1\" class=\"dataframe\">\n",
       "  <thead>\n",
       "    <tr style=\"text-align: right;\">\n",
       "      <th></th>\n",
       "      <th>Name</th>\n",
       "      <th>Age</th>\n",
       "      <th>Track</th>\n",
       "    </tr>\n",
       "  </thead>\n",
       "  <tbody>\n",
       "    <tr>\n",
       "      <th>0</th>\n",
       "      <td>Ade</td>\n",
       "      <td>21</td>\n",
       "      <td>Python</td>\n",
       "    </tr>\n",
       "    <tr>\n",
       "      <th>1</th>\n",
       "      <td>Chris</td>\n",
       "      <td>24</td>\n",
       "      <td>Data Analyst</td>\n",
       "    </tr>\n",
       "    <tr>\n",
       "      <th>2</th>\n",
       "      <td>Ayo</td>\n",
       "      <td>26</td>\n",
       "      <td>IT</td>\n",
       "    </tr>\n",
       "  </tbody>\n",
       "</table>\n",
       "</div>"
      ],
      "text/plain": [
       "    Name  Age         Track\n",
       "0    Ade   21        Python\n",
       "1  Chris   24  Data Analyst\n",
       "2    Ayo   26            IT"
      ]
     },
     "execution_count": 164,
     "metadata": {},
     "output_type": "execute_result"
    }
   ],
   "source": [
    "# LEts create a dataframe\n",
    "# Step1: import pandas\n",
    "import pandas as pd\n",
    "\n",
    "# Define the data using dictionary that is having its values as a list\n",
    "\n",
    "data = {\n",
    "    'Name' : ['Ade', 'Chris', 'Ayo'],\n",
    "    'Age': [21, 24, 26],\n",
    "    'Track': ['Python', 'Data Analyst', 'IT']\n",
    "}\n",
    "\n",
    "# Lets create the dataframe using \"df\" as short for dataframe\n",
    "df = pd.DataFrame(data)\n",
    "df.head()"
   ]
  },
  {
   "cell_type": "code",
   "execution_count": 165,
   "id": "d792c959",
   "metadata": {},
   "outputs": [
    {
     "data": {
      "text/html": [
       "<div>\n",
       "<style scoped>\n",
       "    .dataframe tbody tr th:only-of-type {\n",
       "        vertical-align: middle;\n",
       "    }\n",
       "\n",
       "    .dataframe tbody tr th {\n",
       "        vertical-align: top;\n",
       "    }\n",
       "\n",
       "    .dataframe thead th {\n",
       "        text-align: right;\n",
       "    }\n",
       "</style>\n",
       "<table border=\"1\" class=\"dataframe\">\n",
       "  <thead>\n",
       "    <tr style=\"text-align: right;\">\n",
       "      <th></th>\n",
       "      <th>Name</th>\n",
       "      <th>Age</th>\n",
       "      <th>Track</th>\n",
       "    </tr>\n",
       "  </thead>\n",
       "  <tbody>\n",
       "    <tr>\n",
       "      <th>1</th>\n",
       "      <td>Ade</td>\n",
       "      <td>21</td>\n",
       "      <td>Python</td>\n",
       "    </tr>\n",
       "    <tr>\n",
       "      <th>2</th>\n",
       "      <td>Chris</td>\n",
       "      <td>24</td>\n",
       "      <td>Data Analyst</td>\n",
       "    </tr>\n",
       "    <tr>\n",
       "      <th>3</th>\n",
       "      <td>Ayo</td>\n",
       "      <td>26</td>\n",
       "      <td>IT</td>\n",
       "    </tr>\n",
       "  </tbody>\n",
       "</table>\n",
       "</div>"
      ],
      "text/plain": [
       "    Name  Age         Track\n",
       "1    Ade   21        Python\n",
       "2  Chris   24  Data Analyst\n",
       "3    Ayo   26            IT"
      ]
     },
     "execution_count": 165,
     "metadata": {},
     "output_type": "execute_result"
    }
   ],
   "source": [
    "# Define the data using dictionary that is having its values as a list\n",
    "\n",
    "data2 = [\n",
    "    {'Name' : 'Ade', 'Age': 21, 'Track': 'Python'},\n",
    "    {'Name' : 'Chris', 'Age': 24, 'Track': 'Data Analyst'},\n",
    "    {'Name' : 'Ayo', 'Age': 26, 'Track': 'IT'}\n",
    "]\n",
    "\n",
    "# Lets create the dataframe using \"df\" as short for dataframe\n",
    "df2 = pd.DataFrame(data2, index=[1, 2, 3])\n",
    "df2.head()"
   ]
  },
  {
   "cell_type": "code",
   "execution_count": 166,
   "id": "965a152a",
   "metadata": {},
   "outputs": [
    {
     "data": {
      "text/html": [
       "<div>\n",
       "<style scoped>\n",
       "    .dataframe tbody tr th:only-of-type {\n",
       "        vertical-align: middle;\n",
       "    }\n",
       "\n",
       "    .dataframe tbody tr th {\n",
       "        vertical-align: top;\n",
       "    }\n",
       "\n",
       "    .dataframe thead th {\n",
       "        text-align: right;\n",
       "    }\n",
       "</style>\n",
       "<table border=\"1\" class=\"dataframe\">\n",
       "  <thead>\n",
       "    <tr style=\"text-align: right;\">\n",
       "      <th></th>\n",
       "      <th>Name</th>\n",
       "      <th>Age</th>\n",
       "      <th>Home_Town</th>\n",
       "    </tr>\n",
       "  </thead>\n",
       "  <tbody>\n",
       "    <tr>\n",
       "      <th>1</th>\n",
       "      <td>Chris</td>\n",
       "      <td>26</td>\n",
       "      <td>Benin</td>\n",
       "    </tr>\n",
       "    <tr>\n",
       "      <th>2</th>\n",
       "      <td>Ayo</td>\n",
       "      <td>24</td>\n",
       "      <td>Ibadan</td>\n",
       "    </tr>\n",
       "    <tr>\n",
       "      <th>3</th>\n",
       "      <td>Chisom</td>\n",
       "      <td>22</td>\n",
       "      <td>Enugu</td>\n",
       "    </tr>\n",
       "  </tbody>\n",
       "</table>\n",
       "</div>"
      ],
      "text/plain": [
       "     Name  Age Home_Town\n",
       "1   Chris   26     Benin\n",
       "2     Ayo   24    Ibadan\n",
       "3  Chisom   22     Enugu"
      ]
     },
     "execution_count": 166,
     "metadata": {},
     "output_type": "execute_result"
    }
   ],
   "source": [
    "# Lets do the same thing again using list of list\n",
    "\n",
    "data3 = [\n",
    "    ['Chris', 26, 'Benin'],\n",
    "    ['Ayo', 24, 'Ibadan'],\n",
    "    ['Chisom', 22, 'Enugu']\n",
    "]\n",
    "df3 = pd.DataFrame(data3, columns=['Name', 'Age', 'Home_Town'], index=[1, 2, 3])\n",
    "df3.head()"
   ]
  },
  {
   "cell_type": "code",
   "execution_count": 167,
   "id": "b2fbaa90",
   "metadata": {},
   "outputs": [
    {
     "name": "stdout",
     "output_type": "stream",
     "text": [
      "<class 'pandas.core.frame.DataFrame'>\n",
      "<class 'pandas.core.frame.DataFrame'>\n",
      "<class 'pandas.core.frame.DataFrame'>\n"
     ]
    }
   ],
   "source": [
    "# lets print the types to be sure we have defined dataframes\n",
    "print(type(df))\n",
    "print(type(df2))\n",
    "print(type(df3))"
   ]
  },
  {
   "cell_type": "markdown",
   "id": "2af3088b",
   "metadata": {},
   "source": [
    "**B.    Data Input and Output**"
   ]
  },
  {
   "cell_type": "code",
   "execution_count": 168,
   "id": "d2bd5920",
   "metadata": {},
   "outputs": [
    {
     "ename": "TypeError",
     "evalue": "read_excel() missing 1 required positional argument: 'io'",
     "output_type": "error",
     "traceback": [
      "\u001b[31m---------------------------------------------------------------------------\u001b[39m",
      "\u001b[31mTypeError\u001b[39m                                 Traceback (most recent call last)",
      "\u001b[36mCell\u001b[39m\u001b[36m \u001b[39m\u001b[32mIn[168]\u001b[39m\u001b[32m, line 8\u001b[39m\n\u001b[32m      5\u001b[39m df\n\u001b[32m      7\u001b[39m \u001b[38;5;66;03m# To read datasets in excel, we use:\u001b[39;00m\n\u001b[32m----> \u001b[39m\u001b[32m8\u001b[39m df1 = \u001b[43mpd\u001b[49m\u001b[43m.\u001b[49m\u001b[43mread_excel\u001b[49m\u001b[43m(\u001b[49m\u001b[43m)\u001b[49m\n\u001b[32m     10\u001b[39m \u001b[38;5;66;03m# To save into a csv \u001b[39;00m\n\u001b[32m     11\u001b[39m df.to_csv()\n",
      "\u001b[31mTypeError\u001b[39m: read_excel() missing 1 required positional argument: 'io'"
     ]
    }
   ],
   "source": [
    "import pandas as pd\n",
    "\n",
    "# To read datasets in csv we use: \n",
    "df = pd.read_csv('bio_data.csv')\n",
    "df\n",
    "\n",
    "# To read datasets in excel, we use:\n",
    "df1 = pd.read_excel()\n",
    "\n",
    "# To save into a csv \n",
    "df.to_csv()\n",
    "\n",
    "# To save into a excel file\n",
    "df.to_excel()\n"
   ]
  },
  {
   "cell_type": "markdown",
   "id": "bb5078d6",
   "metadata": {},
   "source": [
    "**C.    Data Inspection and Exploration**"
   ]
  },
  {
   "cell_type": "code",
   "execution_count": null,
   "id": "733f94ed",
   "metadata": {},
   "outputs": [
    {
     "data": {
      "text/plain": [
       "Index(['Timestamp', 'First Name', 'Last Name', 'Course Track', 'City',\n",
       "       'Gender', 'Seat Number', 'PC-Make', 'PC - OS', 'Feedback'],\n",
       "      dtype='object')"
      ]
     },
     "execution_count": 17,
     "metadata": {},
     "output_type": "execute_result"
    }
   ],
   "source": [
    "import pandas as pd\n",
    "\n",
    "# To read datasets in csv we use: \n",
    "df = pd.read_csv('bio_data.csv')\n",
    "df\n",
    "\n",
    "# To view the first 5 rows\n",
    "df.head()\n",
    "\n",
    "# To view the last five rows\n",
    "df.tail()"
   ]
  },
  {
   "cell_type": "code",
   "execution_count": null,
   "id": "a8a5a408",
   "metadata": {},
   "outputs": [
    {
     "name": "stdout",
     "output_type": "stream",
     "text": [
      "<class 'pandas.core.frame.DataFrame'>\n",
      "RangeIndex: 34 entries, 0 to 33\n",
      "Data columns (total 10 columns):\n",
      " #   Column        Non-Null Count  Dtype \n",
      "---  ------        --------------  ----- \n",
      " 0   Timestamp     34 non-null     object\n",
      " 1   First Name    34 non-null     object\n",
      " 2   Last Name     34 non-null     object\n",
      " 3   Course Track  34 non-null     object\n",
      " 4   City          34 non-null     object\n",
      " 5   Gender        34 non-null     object\n",
      " 6   Seat Number   34 non-null     object\n",
      " 7   PC-Make       34 non-null     object\n",
      " 8   PC - OS       34 non-null     object\n",
      " 9   Feedback      34 non-null     object\n",
      "dtypes: object(10)\n",
      "memory usage: 2.8+ KB\n"
     ]
    },
    {
     "data": {
      "text/plain": [
       "Index(['Timestamp', 'First Name', 'Last Name', 'Course Track', 'City',\n",
       "       'Gender', 'Seat Number', 'PC-Make', 'PC - OS', 'Feedback'],\n",
       "      dtype='object')"
      ]
     },
     "execution_count": 2,
     "metadata": {},
     "output_type": "execute_result"
    }
   ],
   "source": [
    "import pandas as pd\n",
    "\n",
    "# To read datasets in csv we use: \n",
    "df = pd.read_csv('bio_data.csv')\n",
    "\n",
    "# To check the info about the data\n",
    "df.info()\n",
    "\n",
    "# To check the statistical summary\n",
    "df.describe()\n",
    "\n",
    "# To Check the dimension of the dataset\n",
    "df.shape\n",
    "\n",
    "# For checking column names\n",
    "df.columns "
   ]
  },
  {
   "cell_type": "markdown",
   "id": "7d6f46ff",
   "metadata": {},
   "source": [
    "**D.    Data Cleaning**"
   ]
  },
  {
   "cell_type": "markdown",
   "id": "065d67d8",
   "metadata": {},
   "source": [
    "Finding and Handling Duplicates"
   ]
  },
  {
   "cell_type": "code",
   "execution_count": null,
   "id": "7a248e10",
   "metadata": {},
   "outputs": [
    {
     "ename": "TypeError",
     "evalue": "read_csv() got an unexpected keyword argument 'index'",
     "output_type": "error",
     "traceback": [
      "\u001b[31m---------------------------------------------------------------------------\u001b[39m",
      "\u001b[31mTypeError\u001b[39m                                 Traceback (most recent call last)",
      "\u001b[36mCell\u001b[39m\u001b[36m \u001b[39m\u001b[32mIn[79]\u001b[39m\u001b[32m, line 4\u001b[39m\n\u001b[32m      1\u001b[39m \u001b[38;5;28;01mimport\u001b[39;00m\u001b[38;5;250m \u001b[39m\u001b[34;01mpandas\u001b[39;00m\u001b[38;5;250m \u001b[39m\u001b[38;5;28;01mas\u001b[39;00m\u001b[38;5;250m \u001b[39m\u001b[34;01mpd\u001b[39;00m\n\u001b[32m      3\u001b[39m \u001b[38;5;66;03m# To read datasets in csv we use: \u001b[39;00m\n\u001b[32m----> \u001b[39m\u001b[32m4\u001b[39m df = \u001b[43mpd\u001b[49m\u001b[43m.\u001b[49m\u001b[43mread_csv\u001b[49m\u001b[43m(\u001b[49m\u001b[33;43m'\u001b[39;49m\u001b[33;43mbio_data.csv\u001b[39;49m\u001b[33;43m'\u001b[39;49m\u001b[43m,\u001b[49m\u001b[43m \u001b[49m\u001b[43mindex\u001b[49m\u001b[43m \u001b[49m\u001b[43m=\u001b[49m\u001b[43m[\u001b[49m\u001b[32;43m1\u001b[39;49m\u001b[43m]\u001b[49m\u001b[43m)\u001b[49m\n\u001b[32m      5\u001b[39m df\n\u001b[32m      7\u001b[39m \u001b[38;5;66;03m# Checking the dataset for duplicates\u001b[39;00m\n",
      "\u001b[31mTypeError\u001b[39m: read_csv() got an unexpected keyword argument 'index'"
     ]
    }
   ],
   "source": [
    "import pandas as pd\n",
    "\n",
    "# To read datasets in csv we use: \n",
    "df = pd.read_csv('bio_data.csv')\n",
    "df\n",
    "\n",
    "# Checking the dataset for duplicates\n",
    "df.duplicated()\n",
    "\n",
    "# Checking the dataset for missing values\n",
    "df.isnull().sum() # Dataset reports no missing dataset\n",
    "df.isna().sum() # Dataset reports no missing dataset\n",
    "\n",
    "# This is for dropping duplicate values if it exists\n",
    "df.drop_duplicates() "
   ]
  },
  {
   "cell_type": "markdown",
   "id": "2b69e6b1",
   "metadata": {},
   "source": [
    "**Correcting Data**\n",
    "\n",
    "In pandas there are two main types of datatypes, \"integer\" and \"Object\"\n",
    "\n",
    "You can check data type using\n",
    "```c\n",
    "\n",
    "df types\n",
    "```\n",
    "\n",
    "To convert the type of perform type casting, you use\n",
    "\n",
    "```c\n",
    "df.astype() # this takes in the datatype you want to convert it to as an argument\n",
    "```\n",
    "\n",
    "When working with time or time series dat its important to convert the time to pandas recognized time using\n",
    "\n",
    "```c\n",
    "pd.to_datatime() # takes in the data column as an argument\n",
    "```\n"
   ]
  },
  {
   "cell_type": "code",
   "execution_count": null,
   "id": "b63cd572",
   "metadata": {},
   "outputs": [],
   "source": [
    "import pandas as pd\n",
    "\n",
    "# To read datasets in csv we use: \n",
    "df = pd.read_csv('bio_data.csv')\n",
    "df\n",
    "\n",
    "# To convert the type of perform type casting, you use\n",
    "# df.astype() takes in the datatype you want to convert it to as an argument\n",
    "\n",
    "# Replacing the dirty data to an int in the column\n",
    "df['Seat Number'] = df['Seat Number'].replace('dirty', 789)\n",
    "\n",
    "\n",
    "# To convert a specific datatype to the correct datatype\n",
    "df['Seat Number'] = df['Seat Number'].astype(int)\n",
    "df['Seat Number']\n"
   ]
  },
  {
   "cell_type": "code",
   "execution_count": null,
   "id": "f6065ab2",
   "metadata": {},
   "outputs": [],
   "source": [
    "# To change the data type of the Timestamp \n",
    "df['Timestamp'] = pd.to_datetime(df['Timestamp'])\n",
    "df['Timestamp'] "
   ]
  },
  {
   "cell_type": "code",
   "execution_count": null,
   "id": "2dd38d41",
   "metadata": {},
   "outputs": [],
   "source": [
    "# To check the data type of all the columns in the dataset\n",
    "df.dtypes"
   ]
  },
  {
   "cell_type": "markdown",
   "id": "abed6bd6",
   "metadata": {},
   "source": [
    "### E. Data Selection and Filtering"
   ]
  },
  {
   "cell_type": "markdown",
   "id": "474a9df8",
   "metadata": {},
   "source": [
    "Viewing data column"
   ]
  },
  {
   "cell_type": "code",
   "execution_count": null,
   "id": "9227d884",
   "metadata": {},
   "outputs": [
    {
     "data": {
      "text/plain": [
       "Index(['Timestamp', 'First Name', 'Last Name', 'Course Track', 'City',\n",
       "       'Gender', 'Seat Number', 'PC-Make', 'PC - OS', 'Feedback'],\n",
       "      dtype='object')"
      ]
     },
     "execution_count": 67,
     "metadata": {},
     "output_type": "execute_result"
    }
   ],
   "source": [
    "# To view all the columns in a dataset\n",
    "# bio_data_column = ['First Name', 'Last Name', 'Course Track', 'City', 'Gender', 'Seat Number', 'PC-Make', 'PC-OS', 'Feedback' ]\n",
    "\n",
    "df.columns"
   ]
  },
  {
   "cell_type": "markdown",
   "id": "9278936f",
   "metadata": {},
   "source": [
    "Column selection"
   ]
  },
  {
   "cell_type": "code",
   "execution_count": null,
   "id": "cc3a5eb1",
   "metadata": {},
   "outputs": [],
   "source": [
    "# Looking through a single column\n",
    "df['Gender']\n",
    "df.Gender\n",
    "\n",
    "# Looking through a single column that is named with a space\n",
    "df['First Name']"
   ]
  },
  {
   "cell_type": "code",
   "execution_count": null,
   "id": "f3e7c14c",
   "metadata": {},
   "outputs": [],
   "source": [
    "# Looking through multiple columns\n",
    "df[['Gender', 'Last Name']]\n",
    "df[['Gender', 'Last Name', 'PC-Make']]"
   ]
  },
  {
   "cell_type": "markdown",
   "id": "32964c47",
   "metadata": {},
   "source": [
    "Cell Selection"
   ]
  },
  {
   "cell_type": "code",
   "execution_count": null,
   "id": "26e7f8b2",
   "metadata": {},
   "outputs": [
    {
     "data": {
      "text/plain": [
       "'Adebiyi'"
      ]
     },
     "execution_count": 93,
     "metadata": {},
     "output_type": "execute_result"
    }
   ],
   "source": [
    "# To select a single cell\n",
    "df['First Name'][0]\n",
    "\n",
    "# Another method for selecting the cell (.at)\n",
    "df.at[0, 'First Name']\n",
    "\n",
    "# Another method for selecting the cell (.iat)\n",
    "df.iat[6, 2]"
   ]
  },
  {
   "cell_type": "markdown",
   "id": "0435eee0",
   "metadata": {},
   "source": [
    "Row selection"
   ]
  },
  {
   "cell_type": "markdown",
   "id": "20419719",
   "metadata": {},
   "source": [
    "`iloc` is used to select rows/columns or rows and column using index slicing.\n",
    "This is very useful especially when your data bset do not have labels(that is, row names and column names)"
   ]
  },
  {
   "cell_type": "code",
   "execution_count": null,
   "id": "66572f93",
   "metadata": {},
   "outputs": [],
   "source": [
    "# Using iloc\n",
    "# Let select some rows\n",
    "df.iloc[0:5] # Starts from the 0th index and stops at the the 4th element\n",
    "\n",
    "# Combination of rows and columns\n",
    "df.iloc[0:5, 1:3] # the first index prints the 0th to the 4th element and the column picks the 1st to the second element\n"
   ]
  },
  {
   "cell_type": "markdown",
   "id": "78b63d31",
   "metadata": {},
   "source": [
    "**Difference between iloc and loc**\n",
    "\n",
    "- iloc allows the combination of rows and columns, loc doesn't\n",
    "- loc prints the first element specified to the last element\n",
    "- iloc prints the first elemnt specified to the number before the last specified element.\n",
    "- loc is label specified.\n",
    "- iloc is index specified."
   ]
  },
  {
   "cell_type": "code",
   "execution_count": null,
   "id": "61a5d94d",
   "metadata": {},
   "outputs": [],
   "source": [
    "# Using loc\n",
    "df.loc[:7] # prints 0th to the 7th element\n",
    "df.loc[7:] # prints 7th to the last element\n",
    "df.loc[::]\n",
    "\n"
   ]
  },
  {
   "cell_type": "markdown",
   "id": "2192dafa",
   "metadata": {},
   "source": [
    "**Conditinal Filtering**"
   ]
  },
  {
   "cell_type": "code",
   "execution_count": null,
   "id": "19454661",
   "metadata": {},
   "outputs": [],
   "source": [
    "# Filtering columns with a specified info\n",
    "# This returns the specified row to be printed\n",
    "filtered_city = df[df['City'] == 'Abeokuta']\n",
    "print(\"Rows where City is 'Abeokuta':\")\n",
    "filtered_city\n",
    "\n",
    "# Replacing a filtered selection with another input\n",
    "filtered_city = df[df['City'] == 'Abeokuta']\n",
    "replace_filtered_city = filtered_city.replace('Abeokuta', 'London')\n",
    "print(\"Replace rows with Abeokuta with London:\")\n",
    "replace_filtered_city\n",
    "\n",
    "# Filter rows where the PC-Make and course Track is \"Cloud Computing\"\n",
    "filtered_PCMake = df[df['PC-Make'] == 'HP']\n",
    "replace_filtered_PC = filtered_PCMake.replace('HP', 'Macbook')\n",
    "replace_filtered_PC\n",
    "filtered_PC= df[(df['PC-Make']== 'HP') & (df['Course Track'] == 'Cloud Computing')]\n",
    "print(\"Rows where PC-Make is 'Abeokuta' and Course_Track is 'Cloud Computing':\")\n",
    "filtered_PC\n",
    "\n",
    "# Filter rows where City is either 'Abeokuta' or 'Lagos'\n",
    "cities = ['Abeokuta', 'Lagos']\n",
    "city_filter = df[df['City'].isin(cities)]\n",
    "print(\"Rows where the city is Lagos or Abeokuta:\")\n",
    "city_filter\n"
   ]
  },
  {
   "cell_type": "markdown",
   "id": "56a02aa5",
   "metadata": {},
   "source": [
    "**Using .Query() method**"
   ]
  },
  {
   "cell_type": "code",
   "execution_count": 1,
   "id": "2f93e0df",
   "metadata": {},
   "outputs": [
    {
     "name": "stdout",
     "output_type": "stream",
     "text": [
      "Rows filtered using query() method:\n"
     ]
    },
    {
     "data": {
      "text/html": [
       "<div>\n",
       "<style scoped>\n",
       "    .dataframe tbody tr th:only-of-type {\n",
       "        vertical-align: middle;\n",
       "    }\n",
       "\n",
       "    .dataframe tbody tr th {\n",
       "        vertical-align: top;\n",
       "    }\n",
       "\n",
       "    .dataframe thead th {\n",
       "        text-align: right;\n",
       "    }\n",
       "</style>\n",
       "<table border=\"1\" class=\"dataframe\">\n",
       "  <thead>\n",
       "    <tr style=\"text-align: right;\">\n",
       "      <th></th>\n",
       "      <th>Timestamp</th>\n",
       "      <th>First Name</th>\n",
       "      <th>Last Name</th>\n",
       "      <th>Course Track</th>\n",
       "      <th>City</th>\n",
       "      <th>Gender</th>\n",
       "      <th>Seat Number</th>\n",
       "      <th>PC-Make</th>\n",
       "      <th>PC - OS</th>\n",
       "      <th>Feedback</th>\n",
       "    </tr>\n",
       "  </thead>\n",
       "  <tbody>\n",
       "    <tr>\n",
       "      <th>1</th>\n",
       "      <td>2025/09/11 12:56:11 PM GMT+1</td>\n",
       "      <td>Toyeebat</td>\n",
       "      <td>Nababa</td>\n",
       "      <td>AI</td>\n",
       "      <td>Abeokuta</td>\n",
       "      <td>Female</td>\n",
       "      <td>24</td>\n",
       "      <td>HP</td>\n",
       "      <td>Windows</td>\n",
       "      <td>Excellent</td>\n",
       "    </tr>\n",
       "    <tr>\n",
       "      <th>6</th>\n",
       "      <td>2025/09/11 12:58:55 PM GMT+1</td>\n",
       "      <td>Naheemot</td>\n",
       "      <td>Adebiyi</td>\n",
       "      <td>AI</td>\n",
       "      <td>Abeokuta</td>\n",
       "      <td>Female</td>\n",
       "      <td>32</td>\n",
       "      <td>DELL</td>\n",
       "      <td>Windows</td>\n",
       "      <td>Grateful for the opportunity to be here.</td>\n",
       "    </tr>\n",
       "    <tr>\n",
       "      <th>10</th>\n",
       "      <td>2025/09/11 12:59:41 PM GMT+1</td>\n",
       "      <td>Deborah</td>\n",
       "      <td>Adelegan</td>\n",
       "      <td>AI;Data Science</td>\n",
       "      <td>Abeokuta</td>\n",
       "      <td>Female</td>\n",
       "      <td>001</td>\n",
       "      <td>HP</td>\n",
       "      <td>Windows</td>\n",
       "      <td>None for now</td>\n",
       "    </tr>\n",
       "    <tr>\n",
       "      <th>11</th>\n",
       "      <td>2025/09/11 12:59:43 PM GMT+1</td>\n",
       "      <td>Esther</td>\n",
       "      <td>Kudoro</td>\n",
       "      <td>AI</td>\n",
       "      <td>Abeokuta</td>\n",
       "      <td>Female</td>\n",
       "      <td>1</td>\n",
       "      <td>HP</td>\n",
       "      <td>Windows</td>\n",
       "      <td>Chill</td>\n",
       "    </tr>\n",
       "  </tbody>\n",
       "</table>\n",
       "</div>"
      ],
      "text/plain": [
       "                       Timestamp First Name Last Name     Course Track  \\\n",
       "1   2025/09/11 12:56:11 PM GMT+1   Toyeebat    Nababa               AI   \n",
       "6   2025/09/11 12:58:55 PM GMT+1   Naheemot   Adebiyi               AI   \n",
       "10  2025/09/11 12:59:41 PM GMT+1    Deborah  Adelegan  AI;Data Science   \n",
       "11  2025/09/11 12:59:43 PM GMT+1     Esther    Kudoro               AI   \n",
       "\n",
       "        City  Gender Seat Number PC-Make  PC - OS  \\\n",
       "1   Abeokuta  Female          24      HP  Windows   \n",
       "6   Abeokuta  Female          32    DELL  Windows   \n",
       "10  Abeokuta  Female         001      HP  Windows   \n",
       "11  Abeokuta  Female           1      HP  Windows   \n",
       "\n",
       "                                    Feedback  \n",
       "1                                  Excellent  \n",
       "6   Grateful for the opportunity to be here.  \n",
       "10                              None for now  \n",
       "11                                     Chill  "
      ]
     },
     "execution_count": 1,
     "metadata": {},
     "output_type": "execute_result"
    }
   ],
   "source": [
    "import pandas as pd\n",
    "\n",
    "# To read datasets in csv we use: \n",
    "df = pd.read_csv('bio_data.csv')\n",
    "df\n",
    "\n",
    "\n",
    "# Use query() to filterrows where Gender is 'Female' and City is 'Abeokuta'\n",
    "query_filter = df.query('Gender == \"Female\" and City == \"Abeokuta\"')\n",
    "print(\"Rows filtered using query() method:\")\n",
    "query_filter\n",
    "\n",
    "# Filter rows where Course track \n",
    "# data_science = df.query(\"Course_Track == 'Data Science'\")\n",
    "# print(\"Students in the Data Science track:\")\n",
    "# data_science\n",
    "\n"
   ]
  }
 ],
 "metadata": {
  "kernelspec": {
   "display_name": "my_venv",
   "language": "python",
   "name": "python3"
  },
  "language_info": {
   "codemirror_mode": {
    "name": "ipython",
    "version": 3
   },
   "file_extension": ".py",
   "mimetype": "text/x-python",
   "name": "python",
   "nbconvert_exporter": "python",
   "pygments_lexer": "ipython3",
   "version": "3.13.7"
  }
 },
 "nbformat": 4,
 "nbformat_minor": 5
}
